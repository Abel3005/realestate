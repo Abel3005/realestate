{
 "cells": [
  {
   "cell_type": "code",
   "execution_count": 1,
   "metadata": {},
   "outputs": [],
   "source": [
    "import pandas as pd\n",
    "pd.options.display.max_columns = 100"
   ]
  },
  {
   "cell_type": "markdown",
   "metadata": {},
   "source": [
    "### 데이터 추출\n",
    ">   - 전월세 데이터 추출"
   ]
  },
  {
   "cell_type": "code",
   "execution_count": 4,
   "metadata": {},
   "outputs": [],
   "source": [
    "# 전월세 csv 파일 불러오기\n",
    "df_2024 = pd.read_csv('./data/서울특별시_전월세가_2024.csv', encoding='cp949')\n",
    "df_2023 = pd.read_csv('./data/서울특별시_전월세가_2023.csv')\n",
    "\n",
    "# 1인가구 면적 필터링\n",
    "df_2024 = df_2024[df_2024['임대면적(㎡)'] <= 35].reset_index(drop=True).copy()\n",
    "df_2023 = df_2023[df_2023['임대면적'] <= 35].reset_index(drop=True).copy()\n",
    "\n",
    "# 임대료 0원 제거\n",
    "df_2024 = df_2024[df_2024['임대료(만원)'] != 0].reset_index(drop=True).copy()\n",
    "df_2023 = df_2023[df_2023['임대료(만원)'] != 0].reset_index(drop=True).copy()\n",
    "\n",
    "# 불필요한 컬럼 제거\n",
    "df_2024 = df_2024[['접수연도', '자치구명', '전월세 구분', '임대면적(㎡)', '보증금(만원)', '임대료(만원)', '건물용도', '신규갱신여부']].copy()\n",
    "df_2023 = df_2023[['접수년도', '자치구명', '전월세구분', '임대면적', '보증금(만원)', '임대료(만원)', '건물용도', '신규계약구분']].copy()\n",
    "\n",
    "# 컬럼명 전체 변경\n",
    "df_2024.columns = [['접수년도', '자치구명', '전월세구분', '임대면적', '보증금', '임대료', '건물용도', '신규갱신구분']]\n",
    "df_2023.columns = [['접수년도', '자치구명', '전월세구분', '임대면적', '보증금', '임대료', '건물용도', '신규갱신구분']]\n",
    "\n",
    "# 결측값 제거\n",
    "df_2024 = df_2024.dropna().reset_index(drop=True)\n",
    "df_2023 = df_2023.dropna().reset_index(drop=True)\n",
    "\n",
    "# 돈 단위 변경\n",
    "df_2024['보증금'] = df_2024['보증금'].apply(lambda x: x * 10000)\n",
    "df_2024['임대료'] = df_2024['임대료'].apply(lambda x: x * 10000)\n",
    "df_2023['보증금'] = df_2023['보증금'].apply(lambda x: x * 10000)\n",
    "df_2023['임대료'] = df_2023['임대료'].apply(lambda x: x * 10000)\n",
    "\n",
    "# 데이터프레임 행으로 합치기\n",
    "merge_df = pd.concat([df_2023, df_2024])\n",
    "\n",
    "# index 초기화\n",
    "merge_df.reset_index(drop=True, inplace=True)"
   ]
  },
  {
   "cell_type": "markdown",
   "metadata": {},
   "source": [
    ">   - 청년 안심 주택 데이터 추출"
   ]
  },
  {
   "cell_type": "code",
   "execution_count": 34,
   "metadata": {},
   "outputs": [],
   "source": [
    "import requests\n",
    "from bs4 import BeautifulSoup\n",
    "url = \"https://soco.seoul.go.kr/youth/pgm/home/yohome/maplist.json\"\n",
    "head = {\"User-Agent\":\n",
    "\"Mozilla/5.0 (Windows NT 10.0; Win64; x64) AppleWebKit/537.36 (KHTML, like Gecko) Chrome/123.0.0.0 Safari/537.36\"}\n",
    "\n",
    "\n",
    "response = requests.post(url, headers= head)\n",
    "\n",
    "ansim = response.json()\n",
    "ansim_df = pd.DataFrame(ansim['mapResultList'])\n",
    "\n"
   ]
  },
  {
   "cell_type": "markdown",
   "metadata": {},
   "source": [
    ">   - LH & SH 데이터 추출"
   ]
  },
  {
   "cell_type": "code",
   "execution_count": 38,
   "metadata": {},
   "outputs": [
    {
     "name": "stderr",
     "output_type": "stream",
     "text": [
      "/tmp/ipykernel_7059/74720895.py:1: DtypeWarning: Columns (9) have mixed types. Specify dtype option on import or set low_memory=False.\n",
      "  lhlist = pd.read_csv(\"./data/한국토지주택공사_(매입임대)마이홈포털 기존임대주택 목록_20240104.csv\", encoding='cp949')\n",
      "/tmp/ipykernel_7059/74720895.py:8: SettingWithCopyWarning: \n",
      "A value is trying to be set on a copy of a slice from a DataFrame\n",
      "\n",
      "See the caveats in the documentation: https://pandas.pydata.org/pandas-docs/stable/user_guide/indexing.html#returning-a-view-versus-a-copy\n",
      "  ansim2.drop(14, axis=0,inplace = True)\n"
     ]
    }
   ],
   "source": [
    "lhlist = pd.read_csv(\"./data/한국토지주택공사_(매입임대)마이홈포털 기존임대주택 목록_20240104.csv\", encoding='cp949')\n",
    "lhlist_happy = pd.read_csv(\"./data/한국토지주택공사_(행복주택)마이홈포털 기존임대주택 목록_20240104.csv\", encoding='cp949')\n",
    "select_col = ['adresGu','adresRo', 'scaleTot','roomTotArea','moneyRentalLow','moneyDepositLow',\n",
    "       'fnMoneyDepositLow', 'fnMoneyDepositHigh', 'fnMoneyRentalLow',\n",
    "       'fnMoneyRentalHigh']\n",
    "ansim2 = ansim_df[select_col]\n",
    "a = ansim2['roomTotArea'].tolist()\n",
    "ansim2.drop(14, axis=0,inplace = True)\n",
    "c = ansim2['fnMoneyDepositLow'].tolist()\n",
    "d = ansim2['fnMoneyDepositHigh'].tolist()"
   ]
  },
  {
   "cell_type": "markdown",
   "metadata": {},
   "source": [
    "> - 정규화 식을 이용한 금액 전처리  "
   ]
  },
  {
   "cell_type": "code",
   "execution_count": 39,
   "metadata": {},
   "outputs": [
    {
     "name": "stdout",
     "output_type": "stream",
     "text": [
      "[40000000, 40000000, 43000000, 36000000, 36000000, 45000000, 34000000, 42000000, 46000000, 38000000, 44800000, 26400000, 37130000, 30600000, 58000000, 54000000, 56000000, 4400000, 38250000, 44000000, 39000000, 46000000, 32000000, 27790000, 38000000, 28240000, 35000000, 50000000, 50340000, 24000000, 3680000, 41570000, 17000000, 11050000, 24750000, 22840000, 33040000, 18630000, 19290000, 14960000, 29040000, 61200000, 36400000, 68000000, 4900000, 44000000, 31620000, 37000000, 37000000]\n"
     ]
    }
   ],
   "source": [
    "import re\n",
    "\n",
    "# 주어진 문자열 리스트\n",
    "strings = ['4천만', '4천3백만', '3천6백만', '1억9천1백만']\n",
    "\n",
    "# 정규식 패턴 정의\n",
    "pattern = re.compile(r'(\\d+)(천|백|만|억)?')\n",
    "\n",
    "# 문자열을 숫자로 변환하는 함수\n",
    "def convert_to_number(word):\n",
    "    number = 0\n",
    "    matches = pattern.findall(word)\n",
    "    for match in matches:\n",
    "        digit = int(match[0])\n",
    "        unit = match[1]\n",
    "        if unit == '천':\n",
    "            digit *= 10000000\n",
    "        elif unit == '백':\n",
    "            digit *= 1000000\n",
    "        elif unit == '만':\n",
    "            digit *= 10000\n",
    "        elif unit == '억':\n",
    "            digit *= 100000000  # 억 단위는 1억 = 1e8\n",
    "        else:\n",
    "            digit *= 1\n",
    "        number += digit\n",
    "    return number\n",
    "\n",
    "# 각 문자열을 숫자로 변환하여 리스트 생성\n",
    "new_list = [convert_to_number(word) for word in c]\n",
    "new_list2 = [convert_to_number(word) for word in d]\n",
    "\n",
    "# 결과 출력\n",
    "print(new_list)"
   ]
  },
  {
   "cell_type": "markdown",
   "metadata": {},
   "source": [
    "### DB 접속\n",
    ">   - DB 정보 불러오기"
   ]
  },
  {
   "cell_type": "code",
   "execution_count": 22,
   "metadata": {},
   "outputs": [],
   "source": [
    "with open(\"./db.config\",'r') as f:\n",
    "    db_data = f.read()\n",
    "db_data = eval(db_data)"
   ]
  },
  {
   "cell_type": "code",
   "execution_count": 26,
   "metadata": {},
   "outputs": [],
   "source": [
    "import pymysql\n",
    "\n",
    "_host = db_data['DB_HOST']\n",
    "_user = db_data['DB_USER']\n",
    "_password = db_data['DB_PASSWORD']\n",
    "_name = db_data['DB_NAME']\n",
    "\n",
    "con = pymysql.connect(host=f'{_host}', user=f'{_user}', password=f'{_password}', db=f'{_name}', charset='utf8')\n",
    "cur = con.cursor()"
   ]
  },
  {
   "cell_type": "markdown",
   "metadata": {},
   "source": [
    "### 데이터 전송\n",
    ">   - allRent 테이블 생성: 서울 전지역"
   ]
  },
  {
   "cell_type": "code",
   "execution_count": 42,
   "metadata": {},
   "outputs": [],
   "source": [
    "sql = 'insert into allRent values (%s, %s, %s, %s, %s, %s, %s, %s)'\n",
    "from tqdm import tqdm\n",
    "\n",
    "for idx, row in tqdm(merge_df.iterrows()):\n",
    "    cur.execute(sql, row.tolist())\n",
    "\n",
    "con.commit()"
   ]
  },
  {
   "cell_type": "code",
   "execution_count": 27,
   "metadata": {},
   "outputs": [
    {
     "name": "stderr",
     "output_type": "stream",
     "text": [
      "/tmp/ipykernel_7059/50531298.py:2: UserWarning: pandas only supports SQLAlchemy connectable (engine/connection) or database string URI or sqlite3 DBAPI2 connection. Other DBAPI2 objects are not tested. Please consider using SQLAlchemy.\n",
      "  lh_df = pd.read_sql_query('select * from allLh', con=con)\n",
      "/tmp/ipykernel_7059/50531298.py:3: UserWarning: pandas only supports SQLAlchemy connectable (engine/connection) or database string URI or sqlite3 DBAPI2 connection. Other DBAPI2 objects are not tested. Please consider using SQLAlchemy.\n",
      "  ansim_df = pd.read_sql_query('select * from ansim', con=con)\n"
     ]
    }
   ],
   "source": [
    "# DB 데이터 불러오기``\n",
    "lh_df = pd.read_sql_query('select * from allLh', con=con)\n",
    "ansim_df = pd.read_sql_query('select * from ansim', con=con)"
   ]
  }
 ],
 "metadata": {
  "kernelspec": {
   "display_name": "Python 3",
   "language": "python",
   "name": "python3"
  },
  "language_info": {
   "codemirror_mode": {
    "name": "ipython",
    "version": 3
   },
   "file_extension": ".py",
   "mimetype": "text/x-python",
   "name": "python",
   "nbconvert_exporter": "python",
   "pygments_lexer": "ipython3",
   "version": "3.10.12"
  }
 },
 "nbformat": 4,
 "nbformat_minor": 2
}
