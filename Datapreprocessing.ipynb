{
 "cells": [
  {
   "cell_type": "code",
   "execution_count": 1,
   "metadata": {},
   "outputs": [],
   "source": [
    "import pandas as pd\n",
    "pd.options.display.max_columns = 100"
   ]
  },
  {
   "cell_type": "markdown",
   "metadata": {},
   "source": [
    "### 데이터 추출\n",
    ">   - 전월세 데이터 추출"
   ]
  },
  {
   "cell_type": "code",
   "execution_count": 4,
   "metadata": {},
   "outputs": [],
   "source": [
    "# 전월세 csv 파일 불러오기\n",
    "df_2024 = pd.read_csv('./data/서울특별시_전월세가_2024.csv', encoding='cp949')\n",
    "df_2023 = pd.read_csv('./data/서울특별시_전월세가_2023.csv')\n",
    "\n",
    "# 1인가구 면적 필터링\n",
    "df_2024 = df_2024[df_2024['임대면적(㎡)'] <= 35].reset_index(drop=True).copy()\n",
    "df_2023 = df_2023[df_2023['임대면적'] <= 35].reset_index(drop=True).copy()\n",
    "\n",
    "# 임대료 0원 제거\n",
    "df_2024 = df_2024[df_2024['임대료(만원)'] != 0].reset_index(drop=True).copy()\n",
    "df_2023 = df_2023[df_2023['임대료(만원)'] != 0].reset_index(drop=True).copy()\n",
    "\n",
    "# 불필요한 컬럼 제거\n",
    "df_2024 = df_2024[['접수연도', '자치구명', '전월세 구분', '임대면적(㎡)', '보증금(만원)', '임대료(만원)', '건물용도', '신규갱신여부']].copy()\n",
    "df_2023 = df_2023[['접수년도', '자치구명', '전월세구분', '임대면적', '보증금(만원)', '임대료(만원)', '건물용도', '신규계약구분']].copy()\n",
    "\n",
    "# 컬럼명 전체 변경\n",
    "df_2024.columns = [['접수년도', '자치구명', '전월세구분', '임대면적', '보증금', '임대료', '건물용도', '신규갱신구분']]\n",
    "df_2023.columns = [['접수년도', '자치구명', '전월세구분', '임대면적', '보증금', '임대료', '건물용도', '신규갱신구분']]\n",
    "\n",
    "# 결측값 제거\n",
    "df_2024 = df_2024.dropna().reset_index(drop=True)\n",
    "df_2023 = df_2023.dropna().reset_index(drop=True)\n",
    "\n",
    "# 돈 단위 변경\n",
    "df_2024['보증금'] = df_2024['보증금'].apply(lambda x: x * 10000)\n",
    "df_2024['임대료'] = df_2024['임대료'].apply(lambda x: x * 10000)\n",
    "df_2023['보증금'] = df_2023['보증금'].apply(lambda x: x * 10000)\n",
    "df_2023['임대료'] = df_2023['임대료'].apply(lambda x: x * 10000)\n",
    "\n",
    "# 데이터프레임 행으로 합치기\n",
    "merge_df = pd.concat([df_2023, df_2024])\n",
    "\n",
    "# index 초기화\n",
    "merge_df.reset_index(drop=True, inplace=True)"
   ]
  },
  {
   "cell_type": "markdown",
   "metadata": {},
   "source": [
    ">   - 청년 안심 주택 데이터 추출  \n"
   ]
  },
  {
   "cell_type": "code",
   "execution_count": 34,
   "metadata": {},
   "outputs": [],
   "source": [
    "import requests\n",
    "from bs4 import BeautifulSoup\n",
    "url = \"https://soco.seoul.go.kr/youth/pgm/home/yohome/maplist.json\"\n",
    "head = {\"User-Agent\":\n",
    "\"Mozilla/5.0 (Windows NT 10.0; Win64; x64) AppleWebKit/537.36 (KHTML, like Gecko) Chrome/123.0.0.0 Safari/537.36\"}\n",
    "\n",
    "\n",
    "response = requests.post(url, headers= head)\n",
    "\n",
    "ansim = response.json()\n",
    "ansim_df = pd.DataFrame(ansim['mapResultList'])\n",
    "\n",
    "select_col = ['adresGu','adresRo', 'scaleTot','roomTotArea','moneyRentalLow','moneyDepositLow',\n",
    "       'fnMoneyDepositLow', 'fnMoneyDepositHigh', 'fnMoneyRentalLow',\n",
    "       'fnMoneyRentalHigh']\n",
    "\n",
    "ansim2 = ansim_df[select_col]\n",
    "a = ansim2['roomTotArea'].tolist()\n",
    "ansim2.drop(14, axis=0,inplace = True)\n",
    "c = ansim2['fnMoneyDepositLow'].tolist()\n",
    "d = ansim2['fnMoneyDepositHigh'].tolist()\n",
    "\n",
    "\n",
    "import re\n",
    "\n",
    "# 주어진 문자열 리스트\n",
    "strings = ['4천만', '4천3백만', '3천6백만', '1억9천1백만']\n",
    "\n",
    "# 정규식 패턴 정의\n",
    "pattern = re.compile(r'(\\d+)(천|백|만|억)?')\n",
    "\n",
    "# 문자열을 숫자로 변환하는 함수\n",
    "def convert_to_number(word):\n",
    "    number = 0\n",
    "    matches = pattern.findall(word)\n",
    "    for match in matches:\n",
    "        digit = int(match[0])\n",
    "        unit = match[1]\n",
    "        if unit == '천':\n",
    "            digit *= 10000000\n",
    "        elif unit == '백':\n",
    "            digit *= 1000000\n",
    "        elif unit == '만':\n",
    "            digit *= 10000\n",
    "        elif unit == '억':\n",
    "            digit *= 100000000  # 억 단위는 1억 = 1e8\n",
    "        else:\n",
    "            digit *= 1\n",
    "        number += digit\n",
    "    return number\n",
    "\n",
    "# 각 문자열을 숫자로 변환하여 리스트 생성\n",
    "new_list = [convert_to_number(word) for word in c]\n",
    "new_list2 = [convert_to_number(word) for word in d]\n",
    "\n",
    "# 결과 출력\n",
    "print(new_list)\n"
   ]
  },
  {
   "cell_type": "markdown",
   "metadata": {},
   "source": [
    ">   - LH & SH 데이터 추출"
   ]
  },
  {
   "cell_type": "code",
   "execution_count": 38,
   "metadata": {},
   "outputs": [
    {
     "name": "stderr",
     "output_type": "stream",
     "text": [
      "/tmp/ipykernel_7059/74720895.py:1: DtypeWarning: Columns (9) have mixed types. Specify dtype option on import or set low_memory=False.\n",
      "  lhlist = pd.read_csv(\"./data/한국토지주택공사_(매입임대)마이홈포털 기존임대주택 목록_20240104.csv\", encoding='cp949')\n",
      "/tmp/ipykernel_7059/74720895.py:8: SettingWithCopyWarning: \n",
      "A value is trying to be set on a copy of a slice from a DataFrame\n",
      "\n",
      "See the caveats in the documentation: https://pandas.pydata.org/pandas-docs/stable/user_guide/indexing.html#returning-a-view-versus-a-copy\n",
      "  ansim2.drop(14, axis=0,inplace = True)\n"
     ]
    }
   ],
   "source": [
    "import pandas as pd\n",
    "\n",
    "mae = pd.read_csv('./data/한국토지주택공사_(매입임대)마이홈포털 기존임대주택 목록_20240104.csv',encoding='cp949') # 매입임대에 대한 csv파일\n",
    "hang = pd.read_csv('./data/한국토지주택공사_(행복주택)마이홈포털 기존임대주택 목록_20240104.csv', encoding='cp949') # 행복주택에 대한 csv파일\n",
    "mae = mae[mae['광역시도'] == \"서울특별시\"]\n",
    "hang = hang[hang['광역시도'] == \"서울특별시\"]\n",
    "mae = mae[mae['공급면적(전용)'] <= float(40)] # 전용면적에 대한 제한으로 청년주택의 주 대상인 1인 가구 추출을 위해 적용\n",
    "hang = hang[hang['공급면적(전용)'] <= float(40)]\n",
    "\n",
    "mae1=mae[~mae.도로명주소.duplicated()].drop(['광역시도','단지명','임대사업자','주차수','형명','공급면적(전용)','공급면적(공용)','세대수',\\\n",
    "                                      '임대보증금','월임대료','전환보증금'],axis=True).copy()\n",
    "hang1=hang[~hang.도로명주소.duplicated()].drop(['광역시도','단지명','임대사업자','주차수','형명','공급면적(전용)','공급면적(공용)','세대수',\\\n",
    "                                      '임대보증금','월임대료','전환보증금','준공일자','건물형태','난방방식','승강기설치여부'],axis=True).copy()\n",
    "\"\"\" 중복 데이터 제거 후 평균값'들'을 합치기 위한 전처리 \"\"\"\n",
    "\n",
    "mae2 = mae.groupby('도로명주소',as_index=False).mean('월임대료')\n",
    "mae2 = mae2.drop(['공급면적(공용)','주차수','전환보증금'],axis=True)\n",
    "hang2 = hang.groupby('도로명주소',as_index=False).mean('월임대료')\n",
    "hang2 = hang2.drop(['공급면적(공용)','주차수','전환보증금'],axis=True) #도로명 주소로 그룹화 한 후 평균값 구하고 합치기 위한 불필요 column 제거\n",
    "\n",
    "mae3 = pd.merge(mae1,mae2,how=\"inner\",on='도로명주소')\n",
    "hang3 = pd.merge(hang1,hang2,how=\"inner\",on='도로명주소') #합체\n",
    "\n",
    "for x in mae3.columns[4:] :\n",
    "    mae3 = mae3.astype({x:'int'})\n",
    "for y in hang3.columns[4:] :\n",
    "    hang3 = hang3.astype({y:'int'}) # 세대수, 전용면적, 보증금, 임대료에 대한 타입 변경\n",
    "\n",
    "mae3.rename(columns={'임대종류':'kindRental','시군구':'adresGu', '도로명주소':'adresWay', '주택유형':'kindHouse', '세대수':'scaleTot', \\\n",
    "             '공급면적(전용)':'totarea', '임대보증금':'depositMoney', '월임대료':'rentalMoney'},inplace=True)\n",
    "hang3.rename(columns={'임대종류':'kindRental','시군구':'adresGu', '도로명주소':'adresWay', '주택유형':'kindHouse', '세대수':'scaleTot', \\\n",
    "             '공급면적(전용)':'totarea', '임대보증금':'depositMoney', '월임대료':'rentalMoney'},inplace=True) #column명 변경\n",
    "\n",
    "allLh=pd.concat([mae3,hang3])\n",
    "\n",
    "allLh=allLh[['kindRental', 'adresGu', 'adresWay','scaleTot', 'kindHouse', 'totarea',\\\n",
    "       'depositMoney', 'rentalMoney']] #column 순서 변경 scaleTot <-> kindHouse\n",
    "\n",
    "allLh = allLh.where(pd.notnull(allLh), \"알수없음\") #결측치 변경\n"
   ]
  },
  {
   "cell_type": "markdown",
   "metadata": {},
   "source": [
    "### DB 접속\n",
    ">   - DB 정보 불러오기"
   ]
  },
  {
   "cell_type": "code",
   "execution_count": 22,
   "metadata": {},
   "outputs": [],
   "source": [
    "with open(\"./db.config\",'r') as f:\n",
    "    db_data = f.read()\n",
    "db_data = eval(db_data)"
   ]
  },
  {
   "cell_type": "code",
   "execution_count": 26,
   "metadata": {},
   "outputs": [],
   "source": [
    "import pymysql\n",
    "\n",
    "_host = db_data['DB_HOST']\n",
    "_user = db_data['DB_USER']\n",
    "_password = db_data['DB_PASSWORD']\n",
    "_name = db_data['DB_NAME']\n",
    "\n",
    "con = pymysql.connect(host=f'{_host}', user=f'{_user}', password=f'{_password}', db=f'{_name}', charset='utf8')\n",
    "cur = con.cursor()"
   ]
  },
  {
   "cell_type": "markdown",
   "metadata": {},
   "source": [
    "### 데이터 전송\n",
    ">   - allRent 테이블 생성: 서울 전지역"
   ]
  },
  {
   "cell_type": "code",
   "execution_count": 42,
   "metadata": {},
   "outputs": [],
   "source": [
    "sql = 'insert into allRent values (%s, %s, %s, %s, %s, %s, %s, %s)'\n",
    "from tqdm import tqdm\n",
    "\n",
    "for idx, row in tqdm(merge_df.iterrows()):\n",
    "    cur.execute(sql, row.tolist())\n",
    "\n",
    "con.commit()"
   ]
  },
  {
   "cell_type": "markdown",
   "metadata": {},
   "source": [
    ">   - allLh 테이블 생성: LH & SH"
   ]
  },
  {
   "cell_type": "code",
   "execution_count": null,
   "metadata": {},
   "outputs": [],
   "source": [
    "sql = \"INSERT INTO allLh VALUES (%s, %s, %s, %s, %s, %s, %s, %s)\" \n",
    "\n",
    "allLh.apply(lambda x : cur.execute(sql,x.tolist()),axis=1) #데이터 전송\n",
    "\n",
    "con.commit()"
   ]
  },
  {
   "cell_type": "code",
   "execution_count": 27,
   "metadata": {},
   "outputs": [
    {
     "name": "stderr",
     "output_type": "stream",
     "text": [
      "/tmp/ipykernel_7059/50531298.py:2: UserWarning: pandas only supports SQLAlchemy connectable (engine/connection) or database string URI or sqlite3 DBAPI2 connection. Other DBAPI2 objects are not tested. Please consider using SQLAlchemy.\n",
      "  lh_df = pd.read_sql_query('select * from allLh', con=con)\n",
      "/tmp/ipykernel_7059/50531298.py:3: UserWarning: pandas only supports SQLAlchemy connectable (engine/connection) or database string URI or sqlite3 DBAPI2 connection. Other DBAPI2 objects are not tested. Please consider using SQLAlchemy.\n",
      "  ansim_df = pd.read_sql_query('select * from ansim', con=con)\n"
     ]
    }
   ],
   "source": [
    "# DB 데이터 불러오기``\n",
    "lh_df = pd.read_sql_query('select * from allLh', con=con)\n",
    "ansim_df = pd.read_sql_query('select * from ansim', con=con)"
   ]
  }
 ],
 "metadata": {
  "kernelspec": {
   "display_name": "Python 3",
   "language": "python",
   "name": "python3"
  },
  "language_info": {
   "codemirror_mode": {
    "name": "ipython",
    "version": 3
   },
   "file_extension": ".py",
   "mimetype": "text/x-python",
   "name": "python",
   "nbconvert_exporter": "python",
   "pygments_lexer": "ipython3",
   "version": "3.10.12"
  }
 },
 "nbformat": 4,
 "nbformat_minor": 2
}
