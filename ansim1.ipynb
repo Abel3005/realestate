{
 "cells": [
  {
   "cell_type": "code",
   "execution_count": 5,
   "id": "ecfebe54-1b8b-443b-8f10-8c233990e6ff",
   "metadata": {},
   "outputs": [],
   "source": [
    "import pandas as pd\n",
    "pd.set_option('display.max_columns', None)"
   ]
  },
  {
   "cell_type": "code",
   "execution_count": 2,
   "id": "164082eb-f3a1-4aab-a402-6843052e53b9",
   "metadata": {},
   "outputs": [],
   "source": [
    "df22 = pd.read_csv(\"./data/서울특별시_전월세가_2022.csv\", encoding='cp949')\n",
    "df23 = pd.read_csv(\"./data/서울특별시_전월세가_2023.csv\", encoding='utf-8')"
   ]
  },
  {
   "cell_type": "code",
   "execution_count": 4,
   "id": "8c1fa2bd-4dd7-4c43-afdf-57749d90d170",
   "metadata": {},
   "outputs": [
    {
     "data": {
      "text/plain": [
       "Index(['접수년도', '자치구코드', '자치구명', '법정동코드', '법정동명', '지번구분코드', '지번구분', '본번', '부번',\n",
       "       '층', '계약일', '전월세구분', '임대면적', '보증금(만원)', '임대료(만원)', '건물명', '건축년도',\n",
       "       '건물용도', '계약기간', '신규계약구분', '갱신청구권사용', '종전보증금', '종전임대료'],\n",
       "      dtype='object')"
      ]
     },
     "execution_count": 4,
     "metadata": {},
     "output_type": "execute_result"
    }
   ],
   "source": [
    "df22.columns"
   ]
  },
  {
   "cell_type": "markdown",
   "id": "90f92b83",
   "metadata": {},
   "source": [
    "### 데이터 추출\n",
    ">   - 청년 안심 주택 데이터 추출"
   ]
  },
  {
   "cell_type": "code",
   "execution_count": 6,
   "id": "d2d7f702-6f1d-47f2-bf81-489d4bd70f1b",
   "metadata": {},
   "outputs": [],
   "source": [
    "import requests\n",
    "from bs4 import BeautifulSoup\n",
    "url = \"https://soco.seoul.go.kr/youth/pgm/home/yohome/maplist.json\"\n",
    "head = {\"User-Agent\":\n",
    "\"Mozilla/5.0 (Windows NT 10.0; Win64; x64) AppleWebKit/537.36 (KHTML, like Gecko) Chrome/123.0.0.0 Safari/537.36\"}\n",
    "\n",
    "\n",
    "response = requests.post(url, headers= head)\n",
    "\n",
    "ansim = response.json()\n",
    "ansim_df = pd.DataFrame(ansim['mapResultList'])"
   ]
  },
  {
   "cell_type": "markdown",
   "id": "fc68cf5b",
   "metadata": {},
   "source": [
    ">   - LH & SH 데이터 추출"
   ]
  },
  {
   "cell_type": "code",
   "execution_count": 8,
   "id": "d7ee2775-3b9a-4aea-8138-c3002ed26027",
   "metadata": {},
   "outputs": [
    {
     "name": "stderr",
     "output_type": "stream",
     "text": [
      "/tmp/ipykernel_14127/1769481165.py:1: DtypeWarning: Columns (9) have mixed types. Specify dtype option on import or set low_memory=False.\n",
      "  lhlist = pd.read_csv(\"./data/한국토지주택공사_(매입임대)마이홈포털 기존임대주택 목록_20240104.csv\", encoding='cp949')\n"
     ]
    }
   ],
   "source": [
    "lhlist = pd.read_csv(\"./data/한국토지주택공사_(매입임대)마이홈포털 기존임대주택 목록_20240104.csv\", encoding='cp949')\n",
    "lhlist_happy = pd.read_csv(\"./data/한국토지주택공사_(행복주택)마이홈포털 기존임대주택 목록_20240104.csv\", encoding='cp949')\n",
    "select_col = ['adresGu','adres', 'scaleTot','roomTotArea','moneyDepositLow',\n",
    "       'fnMoneyDepositLow', 'fnMoneyDepositHigh', 'fnMoneyRentalLow',\n",
    "       'fnMoneyRentalHigh']\n",
    "ansim2 = ansim_df[select_col]\n",
    "a = ansim2['roomTotArea'].tolist()"
   ]
  },
  {
   "cell_type": "markdown",
   "id": "113ad8bd",
   "metadata": {},
   "source": [
    "### 데이터 전처리\n",
    ">   - 보증금 및 월세 int 변환"
   ]
  },
  {
   "cell_type": "code",
   "execution_count": 9,
   "id": "3cdd96c0-aad4-48d9-80ab-bc4a39db7ae0",
   "metadata": {},
   "outputs": [
    {
     "name": "stdout",
     "output_type": "stream",
     "text": [
      "['17.05', '17', '18.03', '17.02', '17', '17.78', '18', '16', '17', '14', '20', '17-2,3', '17', '16', '14', '17', '15', '17', '17', '20', '16', '16', '15.51', '16.3', '16', '-15.33', '16', '16.12', '20.08', '15', '15', '17', '14', '17', '14', '16.63', '19', '15.73', '15', '14', '14.35', '18', '17', '15', '17', '16', '16', '14', '17', '16']\n",
      "\n",
      "\n"
     ]
    }
   ],
   "source": [
    "import re\n",
    "\n",
    "# 주어진 리스트\n",
    "data_list = a\n",
    "\n",
    "# 알파벳만을 제거하는 정규식 패턴\n",
    "pattern = re.compile(r'[A-Za-z]+')\n",
    "# 괄호와 괄호 안에 있는 내용을 지우는 정규식 패턴\n",
    "pattern2 = re.compile(r'\\(.*?\\)')\n",
    "\n",
    "result_list = [re.sub(pattern, '', value) for value in data_list]\n",
    "# 리스트 컴프리헨션을 사용하여 각 값에서 괄호와 그 안에 있는 내용을 제거\n",
    "result_list = [re.sub(pattern2, '', value) for value in result_list]\n",
    "\n",
    "# 결과 출력\n",
    "print(result_list)\n",
    "print()\n",
    "print()"
   ]
  },
  {
   "cell_type": "code",
   "execution_count": 10,
   "id": "90b09085-6d20-42f5-a0bd-dddea3f81d4a",
   "metadata": {},
   "outputs": [
    {
     "name": "stderr",
     "output_type": "stream",
     "text": [
      "/tmp/ipykernel_14127/2162907260.py:3: SettingWithCopyWarning: \n",
      "A value is trying to be set on a copy of a slice from a DataFrame.\n",
      "Try using .loc[row_indexer,col_indexer] = value instead\n",
      "\n",
      "See the caveats in the documentation: https://pandas.pydata.org/pandas-docs/stable/user_guide/indexing.html#returning-a-view-versus-a-copy\n",
      "  ansim2['roomTotArea'] = result_list\n",
      "/tmp/ipykernel_14127/2162907260.py:4: SettingWithCopyWarning: \n",
      "A value is trying to be set on a copy of a slice from a DataFrame.\n",
      "Try using .loc[row_indexer,col_indexer] = value instead\n",
      "\n",
      "See the caveats in the documentation: https://pandas.pydata.org/pandas-docs/stable/user_guide/indexing.html#returning-a-view-versus-a-copy\n",
      "  ansim2['roomTotArea'] = ansim2['roomTotArea'].astype(float)\n"
     ]
    }
   ],
   "source": [
    "result_list[result_list.index('17-2,3')] = 17\n",
    "result_list[result_list.index('-15.33')] = 15.33\n",
    "ansim2['roomTotArea'] = result_list\n",
    "ansim2['roomTotArea'] = ansim2['roomTotArea'].astype(float)"
   ]
  },
  {
   "cell_type": "code",
   "execution_count": 11,
   "id": "66fc1274-9163-4c30-938f-add663d12bde",
   "metadata": {},
   "outputs": [
    {
     "data": {
      "text/html": [
       "<div>\n",
       "<style scoped>\n",
       "    .dataframe tbody tr th:only-of-type {\n",
       "        vertical-align: middle;\n",
       "    }\n",
       "\n",
       "    .dataframe tbody tr th {\n",
       "        vertical-align: top;\n",
       "    }\n",
       "\n",
       "    .dataframe thead th {\n",
       "        text-align: right;\n",
       "    }\n",
       "</style>\n",
       "<table border=\"1\" class=\"dataframe\">\n",
       "  <thead>\n",
       "    <tr style=\"text-align: right;\">\n",
       "      <th></th>\n",
       "      <th>adresGu</th>\n",
       "      <th>adres</th>\n",
       "      <th>scaleTot</th>\n",
       "      <th>roomTotArea</th>\n",
       "      <th>moneyDepositLow</th>\n",
       "      <th>fnMoneyDepositLow</th>\n",
       "      <th>fnMoneyDepositHigh</th>\n",
       "      <th>fnMoneyRentalLow</th>\n",
       "      <th>fnMoneyRentalHigh</th>\n",
       "    </tr>\n",
       "  </thead>\n",
       "  <tbody>\n",
       "    <tr>\n",
       "      <th>14</th>\n",
       "      <td>중구</td>\n",
       "      <td>중구 마른내로 159-4</td>\n",
       "      <td>105</td>\n",
       "      <td>14.0</td>\n",
       "      <td>NaN</td>\n",
       "      <td>-6502</td>\n",
       "      <td>-6502</td>\n",
       "      <td>-6502</td>\n",
       "      <td>-6502</td>\n",
       "    </tr>\n",
       "  </tbody>\n",
       "</table>\n",
       "</div>"
      ],
      "text/plain": [
       "   adresGu          adres scaleTot  roomTotArea  moneyDepositLow  \\\n",
       "14      중구  중구 마른내로 159-4      105         14.0              NaN   \n",
       "\n",
       "   fnMoneyDepositLow fnMoneyDepositHigh fnMoneyRentalLow fnMoneyRentalHigh  \n",
       "14             -6502              -6502            -6502             -6502  "
      ]
     },
     "execution_count": 11,
     "metadata": {},
     "output_type": "execute_result"
    }
   ],
   "source": [
    "ansim2[ansim2['moneyDepositLow'].isnull()]"
   ]
  },
  {
   "cell_type": "code",
   "execution_count": 166,
   "id": "2d383989-5dde-4a23-9c10-fdc9c5b53409",
   "metadata": {},
   "outputs": [
    {
     "name": "stderr",
     "output_type": "stream",
     "text": [
      "/tmp/ipykernel_12470/82292642.py:1: SettingWithCopyWarning: \n",
      "A value is trying to be set on a copy of a slice from a DataFrame\n",
      "\n",
      "See the caveats in the documentation: https://pandas.pydata.org/pandas-docs/stable/user_guide/indexing.html#returning-a-view-versus-a-copy\n",
      "  ansim2['fnMoneyRentalLow'][12] = '62000'\n"
     ]
    }
   ],
   "source": [
    "ansim2['fnMoneyRentalLow'][12] = '62000'"
   ]
  },
  {
   "cell_type": "code",
   "execution_count": 168,
   "id": "b78d9c12-b014-4012-b0f9-eb1ddc3bea1a",
   "metadata": {},
   "outputs": [
    {
     "name": "stderr",
     "output_type": "stream",
     "text": [
      "/tmp/ipykernel_12470/230215164.py:2: SettingWithCopyWarning: \n",
      "A value is trying to be set on a copy of a slice from a DataFrame.\n",
      "Try using .loc[row_indexer,col_indexer] = value instead\n",
      "\n",
      "See the caveats in the documentation: https://pandas.pydata.org/pandas-docs/stable/user_guide/indexing.html#returning-a-view-versus-a-copy\n",
      "  ansim2['fnMoneyRentalLow'] = [''.join(['0000' if char == '만' else char for char in word]) for word in ansim2['fnMoneyRentalLow']]\n"
     ]
    }
   ],
   "source": [
    "# 리스트 컴프리헨션을 사용하여 각 문자열에서 'a'를 'x'로 바꾸기\n",
    "ansim2['fnMoneyRentalLow'] = [''.join(['0000' if char == '만' else char for char in word]) for word in ansim2['fnMoneyRentalLow']]"
   ]
  },
  {
   "cell_type": "code",
   "execution_count": 171,
   "id": "4b442f87-86ef-438f-bbe2-11fc2c3132b4",
   "metadata": {},
   "outputs": [
    {
     "name": "stderr",
     "output_type": "stream",
     "text": [
      "/tmp/ipykernel_12470/995886632.py:1: SettingWithCopyWarning: \n",
      "A value is trying to be set on a copy of a slice from a DataFrame\n",
      "\n",
      "See the caveats in the documentation: https://pandas.pydata.org/pandas-docs/stable/user_guide/indexing.html#returning-a-view-versus-a-copy\n",
      "  ansim2['fnMoneyRentalHigh'][4] = '1060000'\n",
      "/tmp/ipykernel_12470/995886632.py:2: SettingWithCopyWarning: \n",
      "A value is trying to be set on a copy of a slice from a DataFrame\n",
      "\n",
      "See the caveats in the documentation: https://pandas.pydata.org/pandas-docs/stable/user_guide/indexing.html#returning-a-view-versus-a-copy\n",
      "  ansim2['fnMoneyRentalHigh'][7] = '1030000'\n",
      "/tmp/ipykernel_12470/995886632.py:3: SettingWithCopyWarning: \n",
      "A value is trying to be set on a copy of a slice from a DataFrame\n",
      "\n",
      "See the caveats in the documentation: https://pandas.pydata.org/pandas-docs/stable/user_guide/indexing.html#returning-a-view-versus-a-copy\n",
      "  ansim2['fnMoneyRentalHigh'][12] = '476000'\n",
      "/tmp/ipykernel_12470/995886632.py:4: SettingWithCopyWarning: \n",
      "A value is trying to be set on a copy of a slice from a DataFrame\n",
      "\n",
      "See the caveats in the documentation: https://pandas.pydata.org/pandas-docs/stable/user_guide/indexing.html#returning-a-view-versus-a-copy\n",
      "  ansim2['fnMoneyRentalHigh'][42] = '1120000'\n"
     ]
    }
   ],
   "source": [
    "ansim2['fnMoneyRentalHigh'][4] = '1060000'\n",
    "ansim2['fnMoneyRentalHigh'][7] = '1030000'\n",
    "ansim2['fnMoneyRentalHigh'][12] = '476000'\n",
    "ansim2['fnMoneyRentalHigh'][42] = '1120000'"
   ]
  },
  {
   "cell_type": "code",
   "execution_count": 172,
   "id": "ecbe20ad-55c4-42c5-b339-2a3e74c64713",
   "metadata": {},
   "outputs": [
    {
     "name": "stderr",
     "output_type": "stream",
     "text": [
      "/tmp/ipykernel_12470/1324027442.py:2: SettingWithCopyWarning: \n",
      "A value is trying to be set on a copy of a slice from a DataFrame.\n",
      "Try using .loc[row_indexer,col_indexer] = value instead\n",
      "\n",
      "See the caveats in the documentation: https://pandas.pydata.org/pandas-docs/stable/user_guide/indexing.html#returning-a-view-versus-a-copy\n",
      "  ansim2['fnMoneyRentalHigh'] = [''.join(['0000' if char == '만' else char for char in word]) for word in ansim2['fnMoneyRentalHigh']]\n"
     ]
    }
   ],
   "source": [
    "# 리스트 컴프리헨션을 사용하여 각 문자열에서 'a'를 'x'로 바꾸기\n",
    "ansim2['fnMoneyRentalHigh'] = [''.join(['0000' if char == '만' else char for char in word]) for word in ansim2['fnMoneyRentalHigh']]"
   ]
  },
  {
   "cell_type": "code",
   "execution_count": 190,
   "id": "933215ef-9bc8-44b2-b41c-3ca9a33a7768",
   "metadata": {},
   "outputs": [
    {
     "name": "stdout",
     "output_type": "stream",
     "text": [
      "['4천만', '4천3백만', '3천6백만', '3천6백만', '4천5백만', '3천4백만', '4천2백만', '4천6백만', '3천8백만', '4천4백80만', '2천6백40만', '4천만', '3천7백13만', '3천만60만', '5천8백만', '5천4백만', '5천6백만', '4백40만', '3천8백25만', '4천4백만', '3천9백만', '4천6백만', '3천2백만', '2천7백79만', '3천8백만', '2천8백24만', '3천5백만', '5천만', '5천만34만', '2천4백만', '3백68만', '4천1백57만', '1천7백만', '1천1백만5만', '2천4백75만', '2천2백84만', '3천3백만4만', '1천8백63만', '1천9백29만', '1천4백96만', '2천9백만4만', '6천1백20만', '3천6백40만', '6천8백만', '4백90만', '4천4백만', '3천1백62만', '3천7백만', '3천7백만']\n"
     ]
    },
    {
     "name": "stderr",
     "output_type": "stream",
     "text": [
      "/tmp/ipykernel_12470/1979941606.py:16: SettingWithCopyWarning: \n",
      "A value is trying to be set on a copy of a slice from a DataFrame.\n",
      "Try using .loc[row_indexer,col_indexer] = value instead\n",
      "\n",
      "See the caveats in the documentation: https://pandas.pydata.org/pandas-docs/stable/user_guide/indexing.html#returning-a-view-versus-a-copy\n",
      "  ansim2['fnMoneyDepositLow'] = new_list\n",
      "/tmp/ipykernel_12470/1979941606.py:17: SettingWithCopyWarning: \n",
      "A value is trying to be set on a copy of a slice from a DataFrame.\n",
      "Try using .loc[row_indexer,col_indexer] = value instead\n",
      "\n",
      "See the caveats in the documentation: https://pandas.pydata.org/pandas-docs/stable/user_guide/indexing.html#returning-a-view-versus-a-copy\n",
      "  ansim2['fnMoneyDepositHigh'] = new_list2\n"
     ]
    }
   ],
   "source": [
    "# 주어진 리스트\n",
    "a = ansim2['fnMoneyDepositLow'].tolist()\n",
    "b = ansim2['fnMoneyDepositHigh'].tolist()\n",
    "\n",
    "# '백0만'을 '백만'으로, '천0만'을 '천만'으로 바꾸는 함수\n",
    "def replace_baek(word):\n",
    "    return word.replace('백0만', '백만').replace('천0만', '천만')\n",
    "\n",
    "# 각 문자열에서 '백0만'을 '백만'으로, '천0만'을 '천만'으로 바꾸기\n",
    "new_list = [replace_baek(word) for word in a]\n",
    "new_list2 = [replace_baek(word) for word in b]\n",
    "\n",
    "# 결과 출력\n",
    "print(new_list)\n",
    "\n",
    "ansim2['fnMoneyDepositLow'] = new_list\n",
    "ansim2['fnMoneyDepositHigh'] = new_list2"
   ]
  },
  {
   "cell_type": "code",
   "execution_count": 204,
   "id": "528ddeed-8958-4d91-9d7f-7634ac7436d1",
   "metadata": {},
   "outputs": [],
   "source": [
    "c = ansim2['fnMoneyDepositLow'].tolist()\n",
    "d = ansim2['fnMoneyDepositHigh'].tolist()"
   ]
  },
  {
   "cell_type": "code",
   "execution_count": 206,
   "id": "9a4a0b98-0707-4bd4-8cd6-89f4eed012f2",
   "metadata": {},
   "outputs": [
    {
     "name": "stdout",
     "output_type": "stream",
     "text": [
      "[40000000, 43000000, 36000000, 36000000, 45000000, 34000000, 42000000, 46000000, 38000000, 44800000, 26400000, 40000000, 37130000, 30600000, 58000000, 54000000, 56000000, 4400000, 38250000, 44000000, 39000000, 46000000, 32000000, 27790000, 38000000, 28240000, 35000000, 50000000, 50340000, 24000000, 3680000, 41570000, 17000000, 11050000, 24750000, 22840000, 33040000, 18630000, 19290000, 14960000, 29040000, 61200000, 36400000, 68000000, 4900000, 44000000, 31620000, 37000000, 37000000]\n"
     ]
    }
   ],
   "source": [
    "import re\n",
    "\n",
    "# 주어진 문자열 리스트\n",
    "strings = ['4천만', '4천3백만', '3천6백만', '1억9천1백만']\n",
    "\n",
    "# 정규식 패턴 정의\n",
    "pattern = re.compile(r'(\\d+)(천|백|만|억)?')\n",
    "\n",
    "# 문자열을 숫자로 변환하는 함수\n",
    "def convert_to_number(word):\n",
    "    number = 0\n",
    "    matches = pattern.findall(word)\n",
    "    for match in matches:\n",
    "        digit = int(match[0])\n",
    "        unit = match[1]\n",
    "        if unit == '천':\n",
    "            digit *= 10000000\n",
    "        elif unit == '백':\n",
    "            digit *= 1000000\n",
    "        elif unit == '만':\n",
    "            digit *= 10000\n",
    "        elif unit == '억':\n",
    "            digit *= 100000000  # 억 단위는 1억 = 1e8\n",
    "        else:\n",
    "            digit *= 1\n",
    "        number += digit\n",
    "    return number\n",
    "\n",
    "# 각 문자열을 숫자로 변환하여 리스트 생성\n",
    "new_list = [convert_to_number(word) for word in c]\n",
    "new_list2 = [convert_to_number(word) for word in d]\n",
    "\n",
    "# 결과 출력\n",
    "print(new_list)\n"
   ]
  },
  {
   "cell_type": "code",
   "execution_count": 207,
   "id": "c2632ba4-6f35-4387-b18b-9b20aa161878",
   "metadata": {},
   "outputs": [
    {
     "name": "stderr",
     "output_type": "stream",
     "text": [
      "/tmp/ipykernel_12470/3633027788.py:1: SettingWithCopyWarning: \n",
      "A value is trying to be set on a copy of a slice from a DataFrame.\n",
      "Try using .loc[row_indexer,col_indexer] = value instead\n",
      "\n",
      "See the caveats in the documentation: https://pandas.pydata.org/pandas-docs/stable/user_guide/indexing.html#returning-a-view-versus-a-copy\n",
      "  ansim2['fnMoneyDepositLow'] = new_list\n",
      "/tmp/ipykernel_12470/3633027788.py:2: SettingWithCopyWarning: \n",
      "A value is trying to be set on a copy of a slice from a DataFrame.\n",
      "Try using .loc[row_indexer,col_indexer] = value instead\n",
      "\n",
      "See the caveats in the documentation: https://pandas.pydata.org/pandas-docs/stable/user_guide/indexing.html#returning-a-view-versus-a-copy\n",
      "  ansim2['fnMoneyDepositHigh'] = new_list2\n"
     ]
    }
   ],
   "source": [
    "ansim2['fnMoneyDepositLow'] = new_list\n",
    "ansim2['fnMoneyDepositHigh'] = new_list2"
   ]
  },
  {
   "cell_type": "code",
   "execution_count": 214,
   "id": "224f0947-7f0f-484d-88db-860407b7998e",
   "metadata": {},
   "outputs": [
    {
     "name": "stdout",
     "output_type": "stream",
     "text": [
      "float64\n"
     ]
    }
   ],
   "source": [
    "ansim2[['moneyDepositLow', 'B']] = df[['A', 'B']].astype(int)"
   ]
  }
 ],
 "metadata": {
  "kernelspec": {
   "display_name": "Python 3 (ipykernel)",
   "language": "python",
   "name": "python3"
  },
  "language_info": {
   "codemirror_mode": {
    "name": "ipython",
    "version": 3
   },
   "file_extension": ".py",
   "mimetype": "text/x-python",
   "name": "python",
   "nbconvert_exporter": "python",
   "pygments_lexer": "ipython3",
   "version": "3.10.12"
  }
 },
 "nbformat": 4,
 "nbformat_minor": 5
}
