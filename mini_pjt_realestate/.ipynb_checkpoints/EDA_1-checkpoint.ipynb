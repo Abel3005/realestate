{
 "cells": [
  {
   "cell_type": "markdown",
   "id": "19f75cb3-130b-476e-a87b-49938e3d4af9",
   "metadata": {},
   "source": [
    "# 데이터 불러오기"
   ]
  },
  {
   "cell_type": "code",
   "execution_count": 5,
   "id": "39524919-6403-4f7a-847f-55726ce36c69",
   "metadata": {},
   "outputs": [],
   "source": [
    "import pandas as pd\n",
    "import zipfile"
   ]
  },
  {
   "cell_type": "code",
   "execution_count": 4,
   "id": "e4e6fa0a-4bec-43e1-8fe5-886bd98ece7e",
   "metadata": {},
   "outputs": [
    {
     "name": "stderr",
     "output_type": "stream",
     "text": [
      "/tmp/ipykernel_26786/533150154.py:1: DtypeWarning: Columns (9) have mixed types. Specify dtype option on import or set low_memory=False.\n",
      "  df = pd.read_csv(\"./data/lhsh.csv\", encoding='cp949')\n"
     ]
    }
   ],
   "source": [
    "df = pd.read_csv(\"./data/lhsh.csv\", encoding='cp949')"
   ]
  },
  {
   "cell_type": "code",
   "execution_count": 13,
   "id": "2c6a5749-8137-4088-a94c-97a22c1c844d",
   "metadata": {},
   "outputs": [],
   "source": [
    "with zipfile.ZipFile(\"./data/2022.zip\", \"r\") as f:\n",
    "    f.extractall(\"./data\")"
   ]
  },
  {
   "cell_type": "code",
   "execution_count": 14,
   "id": "aa656f3c-f600-4bf8-a114-f91b967f3481",
   "metadata": {},
   "outputs": [],
   "source": [
    "with zipfile.ZipFile(\"./data/2023.zip\", \"r\") as f2:\n",
    "    f2.extractall(\"./data\")"
   ]
  },
  {
   "cell_type": "code",
   "execution_count": 17,
   "id": "4ae06c90-f0a3-41e3-98b6-c5a98800ffb9",
   "metadata": {},
   "outputs": [],
   "source": [
    "import os\n",
    "\n",
    "# 추출된 파일의 현재 이름\n",
    "current_file_name = \"./data/╝¡┐∩╞»║░╜├_└ⁿ┐∙╝╝░í_2022.csv\"\n",
    "# ╝¡┐∩╞»║░╜├_└ⁿ┐∙╝╝░í_2023.csv\n",
    "\n",
    "# 변경할 새 파일 이름\n",
    "new_file_name = \"./data/2022.csv\"\n",
    "\n",
    "# 파일 이름 변경\n",
    "os.rename(current_file_name, new_file_name)"
   ]
  },
  {
   "cell_type": "code",
   "execution_count": 18,
   "id": "c4d72ded-eab3-42f1-b0aa-3eb7b10d44a3",
   "metadata": {},
   "outputs": [],
   "source": [
    "current_file_name = \"./data/╝¡┐∩╞»║░╜├_└ⁿ┐∙╝╝░í_2023.csv\"\n",
    "new_file_name = \"./data/2023.csv\"\n",
    "os.rename(current_file_name, new_file_name)"
   ]
  },
  {
   "cell_type": "code",
   "execution_count": 19,
   "id": "9608e668-486f-470c-a34f-f47179ff3911",
   "metadata": {},
   "outputs": [],
   "source": [
    "df_2022 = pd.read_csv(\"./data/2022.csv\", encoding='cp949')"
   ]
  },
  {
   "cell_type": "code",
   "execution_count": 21,
   "id": "ac276817-c1de-4907-9b74-f0d96859084c",
   "metadata": {
    "scrolled": true
   },
   "outputs": [],
   "source": [
    "df_2023 = pd.read_csv(\"./data/2023.csv\", encoding='utf-8')"
   ]
  },
  {
   "cell_type": "markdown",
   "id": "f8cf6966-d149-47ad-b4b2-bb451b2b6dea",
   "metadata": {},
   "source": [
    "# 데이터 확인하기"
   ]
  },
  {
   "cell_type": "code",
   "execution_count": 22,
   "id": "78f441eb-8819-4924-a054-c867a22a0ff6",
   "metadata": {},
   "outputs": [
    {
     "data": {
      "text/html": [
       "<div>\n",
       "<style scoped>\n",
       "    .dataframe tbody tr th:only-of-type {\n",
       "        vertical-align: middle;\n",
       "    }\n",
       "\n",
       "    .dataframe tbody tr th {\n",
       "        vertical-align: top;\n",
       "    }\n",
       "\n",
       "    .dataframe thead th {\n",
       "        text-align: right;\n",
       "    }\n",
       "</style>\n",
       "<table border=\"1\" class=\"dataframe\">\n",
       "  <thead>\n",
       "    <tr style=\"text-align: right;\">\n",
       "      <th></th>\n",
       "      <th>접수년도</th>\n",
       "      <th>자치구코드</th>\n",
       "      <th>자치구명</th>\n",
       "      <th>법정동코드</th>\n",
       "      <th>법정동명</th>\n",
       "      <th>지번구분코드</th>\n",
       "      <th>지번구분</th>\n",
       "      <th>본번</th>\n",
       "      <th>부번</th>\n",
       "      <th>층</th>\n",
       "      <th>...</th>\n",
       "      <th>보증금(만원)</th>\n",
       "      <th>임대료(만원)</th>\n",
       "      <th>건물명</th>\n",
       "      <th>건축년도</th>\n",
       "      <th>건물용도</th>\n",
       "      <th>계약기간</th>\n",
       "      <th>신규계약구분</th>\n",
       "      <th>갱신청구권사용</th>\n",
       "      <th>종전보증금</th>\n",
       "      <th>종전임대료</th>\n",
       "    </tr>\n",
       "  </thead>\n",
       "  <tbody>\n",
       "    <tr>\n",
       "      <th>0</th>\n",
       "      <td>2022</td>\n",
       "      <td>11560</td>\n",
       "      <td>영등포구</td>\n",
       "      <td>12600</td>\n",
       "      <td>양평동2가</td>\n",
       "      <td>1.0</td>\n",
       "      <td>대지</td>\n",
       "      <td>1.0</td>\n",
       "      <td>3.0</td>\n",
       "      <td>6.0</td>\n",
       "      <td>...</td>\n",
       "      <td>16000</td>\n",
       "      <td>0</td>\n",
       "      <td>힘멜하임</td>\n",
       "      <td>2014.0</td>\n",
       "      <td>오피스텔</td>\n",
       "      <td>22.01~24.01</td>\n",
       "      <td>신규</td>\n",
       "      <td>NaN</td>\n",
       "      <td>0.0</td>\n",
       "      <td>NaN</td>\n",
       "    </tr>\n",
       "    <tr>\n",
       "      <th>1</th>\n",
       "      <td>2022</td>\n",
       "      <td>11560</td>\n",
       "      <td>영등포구</td>\n",
       "      <td>11800</td>\n",
       "      <td>도림동</td>\n",
       "      <td>NaN</td>\n",
       "      <td>NaN</td>\n",
       "      <td>NaN</td>\n",
       "      <td>NaN</td>\n",
       "      <td>NaN</td>\n",
       "      <td>...</td>\n",
       "      <td>300</td>\n",
       "      <td>30</td>\n",
       "      <td>NaN</td>\n",
       "      <td>1986.0</td>\n",
       "      <td>단독다가구</td>\n",
       "      <td>NaN</td>\n",
       "      <td>NaN</td>\n",
       "      <td>NaN</td>\n",
       "      <td>NaN</td>\n",
       "      <td>NaN</td>\n",
       "    </tr>\n",
       "    <tr>\n",
       "      <th>2</th>\n",
       "      <td>2022</td>\n",
       "      <td>11215</td>\n",
       "      <td>광진구</td>\n",
       "      <td>10700</td>\n",
       "      <td>화양동</td>\n",
       "      <td>1.0</td>\n",
       "      <td>대지</td>\n",
       "      <td>111.0</td>\n",
       "      <td>12.0</td>\n",
       "      <td>19.0</td>\n",
       "      <td>...</td>\n",
       "      <td>10000</td>\n",
       "      <td>135</td>\n",
       "      <td>NaN</td>\n",
       "      <td>2021.0</td>\n",
       "      <td>오피스텔</td>\n",
       "      <td>22.01~24.01</td>\n",
       "      <td>신규</td>\n",
       "      <td>NaN</td>\n",
       "      <td>0.0</td>\n",
       "      <td>0.0</td>\n",
       "    </tr>\n",
       "  </tbody>\n",
       "</table>\n",
       "<p>3 rows × 23 columns</p>\n",
       "</div>"
      ],
      "text/plain": [
       "   접수년도  자치구코드  자치구명  법정동코드   법정동명  지번구분코드 지번구분     본번    부번     층  ...  \\\n",
       "0  2022  11560  영등포구  12600  양평동2가     1.0   대지    1.0   3.0   6.0  ...   \n",
       "1  2022  11560  영등포구  11800    도림동     NaN  NaN    NaN   NaN   NaN  ...   \n",
       "2  2022  11215   광진구  10700    화양동     1.0   대지  111.0  12.0  19.0  ...   \n",
       "\n",
       "   보증금(만원) 임대료(만원)   건물명    건축년도   건물용도         계약기간  신규계약구분 갱신청구권사용 종전보증금  \\\n",
       "0    16000       0  힘멜하임  2014.0   오피스텔  22.01~24.01      신규     NaN   0.0   \n",
       "1      300      30   NaN  1986.0  단독다가구          NaN     NaN     NaN   NaN   \n",
       "2    10000     135   NaN  2021.0   오피스텔  22.01~24.01      신규     NaN   0.0   \n",
       "\n",
       "  종전임대료  \n",
       "0   NaN  \n",
       "1   NaN  \n",
       "2   0.0  \n",
       "\n",
       "[3 rows x 23 columns]"
      ]
     },
     "execution_count": 22,
     "metadata": {},
     "output_type": "execute_result"
    }
   ],
   "source": [
    "df_2022.head(3)"
   ]
  },
  {
   "cell_type": "code",
   "execution_count": 23,
   "id": "18496eff-af7d-4c01-bdf3-5ab07de7aedb",
   "metadata": {},
   "outputs": [
    {
     "data": {
      "text/html": [
       "<div>\n",
       "<style scoped>\n",
       "    .dataframe tbody tr th:only-of-type {\n",
       "        vertical-align: middle;\n",
       "    }\n",
       "\n",
       "    .dataframe tbody tr th {\n",
       "        vertical-align: top;\n",
       "    }\n",
       "\n",
       "    .dataframe thead th {\n",
       "        text-align: right;\n",
       "    }\n",
       "</style>\n",
       "<table border=\"1\" class=\"dataframe\">\n",
       "  <thead>\n",
       "    <tr style=\"text-align: right;\">\n",
       "      <th></th>\n",
       "      <th>접수년도</th>\n",
       "      <th>자치구코드</th>\n",
       "      <th>자치구명</th>\n",
       "      <th>법정동코드</th>\n",
       "      <th>법정동명</th>\n",
       "      <th>지번구분코드</th>\n",
       "      <th>지번구분</th>\n",
       "      <th>본번</th>\n",
       "      <th>부번</th>\n",
       "      <th>층</th>\n",
       "      <th>...</th>\n",
       "      <th>보증금(만원)</th>\n",
       "      <th>임대료(만원)</th>\n",
       "      <th>건물명</th>\n",
       "      <th>건축년도</th>\n",
       "      <th>건물용도</th>\n",
       "      <th>계약기간</th>\n",
       "      <th>신규계약구분</th>\n",
       "      <th>갱신청구권사용</th>\n",
       "      <th>종전보증금</th>\n",
       "      <th>종전임대료</th>\n",
       "    </tr>\n",
       "  </thead>\n",
       "  <tbody>\n",
       "    <tr>\n",
       "      <th>0</th>\n",
       "      <td>2023</td>\n",
       "      <td>11440</td>\n",
       "      <td>마포구</td>\n",
       "      <td>11000</td>\n",
       "      <td>노고산동</td>\n",
       "      <td>1.0</td>\n",
       "      <td>대지</td>\n",
       "      <td>1.0</td>\n",
       "      <td>1.0</td>\n",
       "      <td>8.0</td>\n",
       "      <td>...</td>\n",
       "      <td>10000</td>\n",
       "      <td>40</td>\n",
       "      <td>\\t(1-1)\\t</td>\n",
       "      <td>1998.0</td>\n",
       "      <td>오피스텔</td>\n",
       "      <td>23.01~24.01</td>\n",
       "      <td>신규</td>\n",
       "      <td>NaN</td>\n",
       "      <td>0.0</td>\n",
       "      <td>0.0</td>\n",
       "    </tr>\n",
       "    <tr>\n",
       "      <th>1</th>\n",
       "      <td>2023</td>\n",
       "      <td>11440</td>\n",
       "      <td>마포구</td>\n",
       "      <td>11000</td>\n",
       "      <td>노고산동</td>\n",
       "      <td>1.0</td>\n",
       "      <td>대지</td>\n",
       "      <td>1.0</td>\n",
       "      <td>1.0</td>\n",
       "      <td>5.0</td>\n",
       "      <td>...</td>\n",
       "      <td>10000</td>\n",
       "      <td>55</td>\n",
       "      <td>\\t(1-1)\\t</td>\n",
       "      <td>1998.0</td>\n",
       "      <td>오피스텔</td>\n",
       "      <td>23.02~24.02</td>\n",
       "      <td>갱신</td>\n",
       "      <td>NaN</td>\n",
       "      <td>10000.0</td>\n",
       "      <td>55.0</td>\n",
       "    </tr>\n",
       "    <tr>\n",
       "      <th>2</th>\n",
       "      <td>2023</td>\n",
       "      <td>11440</td>\n",
       "      <td>마포구</td>\n",
       "      <td>11000</td>\n",
       "      <td>노고산동</td>\n",
       "      <td>1.0</td>\n",
       "      <td>대지</td>\n",
       "      <td>1.0</td>\n",
       "      <td>1.0</td>\n",
       "      <td>9.0</td>\n",
       "      <td>...</td>\n",
       "      <td>21000</td>\n",
       "      <td>0</td>\n",
       "      <td>\\t(1-1)\\t</td>\n",
       "      <td>1998.0</td>\n",
       "      <td>오피스텔</td>\n",
       "      <td>23.02~24.02</td>\n",
       "      <td>신규</td>\n",
       "      <td>NaN</td>\n",
       "      <td>0.0</td>\n",
       "      <td>NaN</td>\n",
       "    </tr>\n",
       "  </tbody>\n",
       "</table>\n",
       "<p>3 rows × 23 columns</p>\n",
       "</div>"
      ],
      "text/plain": [
       "   접수년도  자치구코드 자치구명  법정동코드  법정동명  지번구분코드 지번구분   본번   부번    층  ...  보증금(만원)  \\\n",
       "0  2023  11440  마포구  11000  노고산동     1.0   대지  1.0  1.0  8.0  ...    10000   \n",
       "1  2023  11440  마포구  11000  노고산동     1.0   대지  1.0  1.0  5.0  ...    10000   \n",
       "2  2023  11440  마포구  11000  노고산동     1.0   대지  1.0  1.0  9.0  ...    21000   \n",
       "\n",
       "  임대료(만원)        건물명    건축년도  건물용도         계약기간  신규계약구분 갱신청구권사용    종전보증금 종전임대료  \n",
       "0      40  \\t(1-1)\\t  1998.0  오피스텔  23.01~24.01      신규     NaN      0.0   0.0  \n",
       "1      55  \\t(1-1)\\t  1998.0  오피스텔  23.02~24.02      갱신     NaN  10000.0  55.0  \n",
       "2       0  \\t(1-1)\\t  1998.0  오피스텔  23.02~24.02      신규     NaN      0.0   NaN  \n",
       "\n",
       "[3 rows x 23 columns]"
      ]
     },
     "execution_count": 23,
     "metadata": {},
     "output_type": "execute_result"
    }
   ],
   "source": [
    "df_2023.head(3)"
   ]
  },
  {
   "cell_type": "code",
   "execution_count": 16,
   "id": "44c9deaa-34dc-4a2a-a3b0-66ab91e57282",
   "metadata": {},
   "outputs": [
    {
     "data": {
      "text/html": [
       "<div>\n",
       "<style scoped>\n",
       "    .dataframe tbody tr th:only-of-type {\n",
       "        vertical-align: middle;\n",
       "    }\n",
       "\n",
       "    .dataframe tbody tr th {\n",
       "        vertical-align: top;\n",
       "    }\n",
       "\n",
       "    .dataframe thead th {\n",
       "        text-align: right;\n",
       "    }\n",
       "</style>\n",
       "<table border=\"1\" class=\"dataframe\">\n",
       "  <thead>\n",
       "    <tr style=\"text-align: right;\">\n",
       "      <th></th>\n",
       "      <th>임대종류</th>\n",
       "      <th>광역시도</th>\n",
       "      <th>시군구</th>\n",
       "      <th>도로명주소</th>\n",
       "      <th>단지명</th>\n",
       "      <th>세대수</th>\n",
       "      <th>주택유형</th>\n",
       "      <th>임대사업자</th>\n",
       "      <th>주차수</th>\n",
       "      <th>형명</th>\n",
       "      <th>공급면적(전용)</th>\n",
       "      <th>공급면적(공용)</th>\n",
       "      <th>임대보증금</th>\n",
       "      <th>월임대료</th>\n",
       "      <th>전환보증금</th>\n",
       "    </tr>\n",
       "  </thead>\n",
       "  <tbody>\n",
       "    <tr>\n",
       "      <th>0</th>\n",
       "      <td>매입임대</td>\n",
       "      <td>서울특별시</td>\n",
       "      <td>종로구</td>\n",
       "      <td>서울특별시 종로구 난계로29길 13</td>\n",
       "      <td>서울특별시 종로구</td>\n",
       "      <td>103</td>\n",
       "      <td>오피스텔</td>\n",
       "      <td>LH서울</td>\n",
       "      <td>0</td>\n",
       "      <td>19</td>\n",
       "      <td>19.18</td>\n",
       "      <td>9.7318</td>\n",
       "      <td>2000000</td>\n",
       "      <td>320770</td>\n",
       "      <td>0</td>\n",
       "    </tr>\n",
       "    <tr>\n",
       "      <th>1</th>\n",
       "      <td>매입임대</td>\n",
       "      <td>서울특별시</td>\n",
       "      <td>종로구</td>\n",
       "      <td>서울특별시 종로구 난계로29길 13</td>\n",
       "      <td>서울특별시 종로구</td>\n",
       "      <td>103</td>\n",
       "      <td>오피스텔</td>\n",
       "      <td>LH서울</td>\n",
       "      <td>0</td>\n",
       "      <td>20</td>\n",
       "      <td>20.49</td>\n",
       "      <td>10.1021</td>\n",
       "      <td>2000000</td>\n",
       "      <td>328330</td>\n",
       "      <td>0</td>\n",
       "    </tr>\n",
       "    <tr>\n",
       "      <th>2</th>\n",
       "      <td>매입임대</td>\n",
       "      <td>서울특별시</td>\n",
       "      <td>종로구</td>\n",
       "      <td>서울특별시 종로구 난계로29길 13</td>\n",
       "      <td>서울특별시 종로구</td>\n",
       "      <td>103</td>\n",
       "      <td>오피스텔</td>\n",
       "      <td>LH서울</td>\n",
       "      <td>0</td>\n",
       "      <td>21</td>\n",
       "      <td>21.79</td>\n",
       "      <td>10.7685</td>\n",
       "      <td>2000000</td>\n",
       "      <td>354680</td>\n",
       "      <td>0</td>\n",
       "    </tr>\n",
       "  </tbody>\n",
       "</table>\n",
       "</div>"
      ],
      "text/plain": [
       "   임대종류   광역시도  시군구                도로명주소        단지명  세대수  주택유형 임대사업자  주차수  형명  \\\n",
       "0  매입임대  서울특별시  종로구  서울특별시 종로구 난계로29길 13  서울특별시 종로구  103  오피스텔  LH서울    0  19   \n",
       "1  매입임대  서울특별시  종로구  서울특별시 종로구 난계로29길 13  서울특별시 종로구  103  오피스텔  LH서울    0  20   \n",
       "2  매입임대  서울특별시  종로구  서울특별시 종로구 난계로29길 13  서울특별시 종로구  103  오피스텔  LH서울    0  21   \n",
       "\n",
       "   공급면적(전용)  공급면적(공용)    임대보증금    월임대료  전환보증금  \n",
       "0     19.18    9.7318  2000000  320770      0  \n",
       "1     20.49   10.1021  2000000  328330      0  \n",
       "2     21.79   10.7685  2000000  354680      0  "
      ]
     },
     "execution_count": 16,
     "metadata": {},
     "output_type": "execute_result"
    }
   ],
   "source": [
    "df.head(3)"
   ]
  },
  {
   "cell_type": "code",
   "execution_count": 25,
   "id": "8e0073fb-0b0e-4e21-80ad-f25c7d6780ff",
   "metadata": {},
   "outputs": [
    {
     "name": "stdout",
     "output_type": "stream",
     "text": [
      "(560665, 23)\n",
      "(545813, 23)\n",
      "(110816, 15)\n"
     ]
    }
   ],
   "source": [
    "print(df_2022.shape)\n",
    "print(df_2023.shape)\n",
    "print(df.shape)"
   ]
  },
  {
   "cell_type": "code",
   "execution_count": 28,
   "id": "2345165d-7338-4d54-b10e-79cff843d3da",
   "metadata": {},
   "outputs": [
    {
     "name": "stdout",
     "output_type": "stream",
     "text": [
      "Index(['접수년도', '자치구코드', '자치구명', '법정동코드', '법정동명', '지번구분코드', '지번구분', '본번', '부번',\n",
      "       '층', '계약일', '전월세구분', '임대면적', '보증금(만원)', '임대료(만원)', '건물명', '건축년도',\n",
      "       '건물용도', '계약기간', '신규계약구분', '갱신청구권사용', '종전보증금', '종전임대료'],\n",
      "      dtype='object')\n",
      "Index(['접수년도', '자치구코드', '자치구명', '법정동코드', '법정동명', '지번구분코드', '지번구분', '본번', '부번',\n",
      "       '층', '계약일', '전월세구분', '임대면적', '보증금(만원)', '임대료(만원)', '건물명', '건축년도',\n",
      "       '건물용도', '계약기간', '신규계약구분', '갱신청구권사용', '종전보증금', '종전임대료'],\n",
      "      dtype='object')\n",
      "Index(['임대종류', '광역시도', '시군구', '도로명주소', '단지명', '세대수', '주택유형', '임대사업자', '주차수',\n",
      "       '형명', '공급면적(전용)', '공급면적(공용)', '임대보증금', '월임대료', '전환보증금'],\n",
      "      dtype='object')\n"
     ]
    }
   ],
   "source": [
    "print(df_2022.columns)\n",
    "print(df_2023.columns) #2022년 <> 2023년 데이터 컬럼 동일함\n",
    "print(df.columns)"
   ]
  },
  {
   "cell_type": "markdown",
   "id": "2d955dee-ff08-4bad-84e9-f0005e723b84",
   "metadata": {},
   "source": [
    "## 청년안심임대"
   ]
  },
  {
   "cell_type": "code",
   "execution_count": 39,
   "id": "032e9c4d-b644-489c-bec1-b9fb717dded8",
   "metadata": {},
   "outputs": [],
   "source": [
    "import requests \n",
    "import pandas as pd "
   ]
  },
  {
   "cell_type": "code",
   "execution_count": 40,
   "id": "509fddf9-5b69-4640-bb7e-b70901455212",
   "metadata": {},
   "outputs": [],
   "source": [
    "payload = {\"searchWrd\":\"\", \n",
    "\"xpos\":\"\", \n",
    "\"ypos\":\"\",}\n",
    "\n",
    "url = \"https://soco.seoul.go.kr/youth/pgm/home/yohome/maplist.json\"\n",
    "r = requests.post(url, data=payload)\n",
    "ansim = r.json()\n",
    "ansim_df = pd.DataFrame(ansim['mapResultList'])"
   ]
  },
  {
   "cell_type": "code",
   "execution_count": 41,
   "id": "9b73a89b-c756-4b50-944f-9990a5a4a7ca",
   "metadata": {},
   "outputs": [
    {
     "data": {
      "text/html": [
       "<div>\n",
       "<style scoped>\n",
       "    .dataframe tbody tr th:only-of-type {\n",
       "        vertical-align: middle;\n",
       "    }\n",
       "\n",
       "    .dataframe tbody tr th {\n",
       "        vertical-align: top;\n",
       "    }\n",
       "\n",
       "    .dataframe thead th {\n",
       "        text-align: right;\n",
       "    }\n",
       "</style>\n",
       "<table border=\"1\" class=\"dataframe\">\n",
       "  <thead>\n",
       "    <tr style=\"text-align: right;\">\n",
       "      <th></th>\n",
       "      <th>rnum</th>\n",
       "      <th>homeCode</th>\n",
       "      <th>mainImgAtchFileId</th>\n",
       "      <th>mainImgAtchFileSeq</th>\n",
       "      <th>adresSi</th>\n",
       "      <th>adresGu</th>\n",
       "      <th>adresRo</th>\n",
       "      <th>adres</th>\n",
       "      <th>adresDetail</th>\n",
       "      <th>homeName</th>\n",
       "      <th>...</th>\n",
       "      <th>fnTradPrice</th>\n",
       "      <th>statusCnt</th>\n",
       "      <th>roomTotArea</th>\n",
       "      <th>regDate</th>\n",
       "      <th>xpos</th>\n",
       "      <th>ypos</th>\n",
       "      <th>houseStrut</th>\n",
       "      <th>subwayLineCd</th>\n",
       "      <th>fileId</th>\n",
       "      <th>fileSn</th>\n",
       "    </tr>\n",
       "  </thead>\n",
       "  <tbody>\n",
       "    <tr>\n",
       "      <th>0</th>\n",
       "      <td>1</td>\n",
       "      <td>20000540</td>\n",
       "      <td>None</td>\n",
       "      <td>None</td>\n",
       "      <td>서울</td>\n",
       "      <td>은평구</td>\n",
       "      <td>갈현동 456-25</td>\n",
       "      <td>은평구 갈현동 456-25</td>\n",
       "      <td>THE STUDIO 163</td>\n",
       "      <td>연신내역 THE STUDIO 163</td>\n",
       "      <td>...</td>\n",
       "      <td>-6502</td>\n",
       "      <td>0</td>\n",
       "      <td>17A</td>\n",
       "      <td>1712125695000</td>\n",
       "      <td>126.9190859</td>\n",
       "      <td>37.6179079</td>\n",
       "      <td>None</td>\n",
       "      <td>03,06</td>\n",
       "      <td>16d932a39bb04b9cae0ca3653aa07108</td>\n",
       "      <td>1</td>\n",
       "    </tr>\n",
       "    <tr>\n",
       "      <th>1</th>\n",
       "      <td>2</td>\n",
       "      <td>20000537</td>\n",
       "      <td>None</td>\n",
       "      <td>None</td>\n",
       "      <td>서울</td>\n",
       "      <td>중랑구</td>\n",
       "      <td>상봉동 118-8</td>\n",
       "      <td>중랑구 상봉동 118-8</td>\n",
       "      <td>상봉동양엔파트</td>\n",
       "      <td>상봉역 상봉동양엔파트</td>\n",
       "      <td>...</td>\n",
       "      <td>-6502</td>\n",
       "      <td>0</td>\n",
       "      <td>18.03(18A)</td>\n",
       "      <td>1711088694000</td>\n",
       "      <td>127.0822135</td>\n",
       "      <td>37.5950616</td>\n",
       "      <td>None</td>\n",
       "      <td>07,12,14</td>\n",
       "      <td>01dccb9cec424549b0f6b671b3e69887</td>\n",
       "      <td>1</td>\n",
       "    </tr>\n",
       "    <tr>\n",
       "      <th>2</th>\n",
       "      <td>3</td>\n",
       "      <td>20000366</td>\n",
       "      <td>None</td>\n",
       "      <td>None</td>\n",
       "      <td>서울</td>\n",
       "      <td>중랑구</td>\n",
       "      <td>봉우재로 111</td>\n",
       "      <td>중랑구 봉우재로 111</td>\n",
       "      <td>제이스타상봉</td>\n",
       "      <td>상봉역 제이스타상봉</td>\n",
       "      <td>...</td>\n",
       "      <td>-6502</td>\n",
       "      <td>0</td>\n",
       "      <td>17.02</td>\n",
       "      <td>1646875909000</td>\n",
       "      <td>127.0852776</td>\n",
       "      <td>37.5926916</td>\n",
       "      <td>None</td>\n",
       "      <td>07,12,14</td>\n",
       "      <td>73758eda9e5d4d389892785146e89c3b</td>\n",
       "      <td>11</td>\n",
       "    </tr>\n",
       "  </tbody>\n",
       "</table>\n",
       "<p>3 rows × 42 columns</p>\n",
       "</div>"
      ],
      "text/plain": [
       "   rnum  homeCode mainImgAtchFileId mainImgAtchFileSeq adresSi adresGu  \\\n",
       "0     1  20000540              None               None      서울     은평구   \n",
       "1     2  20000537              None               None      서울     중랑구   \n",
       "2     3  20000366              None               None      서울     중랑구   \n",
       "\n",
       "      adresRo           adres     adresDetail             homeName  ...  \\\n",
       "0  갈현동 456-25  은평구 갈현동 456-25  THE STUDIO 163  연신내역 THE STUDIO 163  ...   \n",
       "1   상봉동 118-8   중랑구 상봉동 118-8         상봉동양엔파트          상봉역 상봉동양엔파트  ...   \n",
       "2    봉우재로 111    중랑구 봉우재로 111          제이스타상봉           상봉역 제이스타상봉  ...   \n",
       "\n",
       "  fnTradPrice statusCnt  roomTotArea        regDate         xpos        ypos  \\\n",
       "0       -6502         0          17A  1712125695000  126.9190859  37.6179079   \n",
       "1       -6502         0   18.03(18A)  1711088694000  127.0822135  37.5950616   \n",
       "2       -6502         0        17.02  1646875909000  127.0852776  37.5926916   \n",
       "\n",
       "  houseStrut subwayLineCd                            fileId fileSn  \n",
       "0       None        03,06  16d932a39bb04b9cae0ca3653aa07108      1  \n",
       "1       None     07,12,14  01dccb9cec424549b0f6b671b3e69887      1  \n",
       "2       None     07,12,14  73758eda9e5d4d389892785146e89c3b     11  \n",
       "\n",
       "[3 rows x 42 columns]"
      ]
     },
     "execution_count": 41,
     "metadata": {},
     "output_type": "execute_result"
    }
   ],
   "source": [
    "ansim_df.head(3)"
   ]
  },
  {
   "cell_type": "code",
   "execution_count": 42,
   "id": "ef615efa-79cc-432a-a12e-e354d6b9d3f8",
   "metadata": {},
   "outputs": [
    {
     "data": {
      "text/plain": [
       "(50, 42)"
      ]
     },
     "execution_count": 42,
     "metadata": {},
     "output_type": "execute_result"
    }
   ],
   "source": [
    "ansim_df.shape"
   ]
  },
  {
   "cell_type": "code",
   "execution_count": 43,
   "id": "6e35a22d-67f5-45cc-8dc1-982f81134f12",
   "metadata": {},
   "outputs": [
    {
     "data": {
      "text/plain": [
       "Index(['rnum', 'homeCode', 'mainImgAtchFileId', 'mainImgAtchFileSeq',\n",
       "       'adresSi', 'adresGu', 'adresRo', 'adres', 'adresDetail', 'homeName',\n",
       "       'totArea', 'totFloor', 'totPeople', 'optionSubway', 'presale',\n",
       "       'presaleNm', 'movinTerms', 'movinHoman', 'houseSupplyNm', 'managerComp',\n",
       "       'moneyDeposit', 'moneyDepositLow', 'moneyRentalLow', 'tradPrice',\n",
       "       'scaleTot', 'managerPhone', 'homepage', 'fnMoneyDeposit',\n",
       "       'fnMoneyDepositLow', 'fnMoneyDepositHigh', 'fnMoneyRentalLow',\n",
       "       'fnMoneyRentalHigh', 'fnTradPrice', 'statusCnt', 'roomTotArea',\n",
       "       'regDate', 'xpos', 'ypos', 'houseStrut', 'subwayLineCd', 'fileId',\n",
       "       'fileSn'],\n",
       "      dtype='object')"
      ]
     },
     "execution_count": 43,
     "metadata": {},
     "output_type": "execute_result"
    }
   ],
   "source": [
    "ansim_df.columns"
   ]
  },
  {
   "cell_type": "code",
   "execution_count": 49,
   "id": "c6dcad89-6a28-4be8-aa73-5f6ce51314b7",
   "metadata": {},
   "outputs": [
    {
     "ename": "KeyError",
     "evalue": "('moneyDeposit', 'moneyDepositLow')",
     "output_type": "error",
     "traceback": [
      "\u001b[0;31m---------------------------------------------------------------------------\u001b[0m",
      "\u001b[0;31mKeyError\u001b[0m                                  Traceback (most recent call last)",
      "File \u001b[0;32m~/workspace/venv/lib/python3.10/site-packages/pandas/core/indexes/base.py:3805\u001b[0m, in \u001b[0;36mIndex.get_loc\u001b[0;34m(self, key)\u001b[0m\n\u001b[1;32m   3804\u001b[0m \u001b[38;5;28;01mtry\u001b[39;00m:\n\u001b[0;32m-> 3805\u001b[0m     \u001b[38;5;28;01mreturn\u001b[39;00m \u001b[38;5;28;43mself\u001b[39;49m\u001b[38;5;241;43m.\u001b[39;49m\u001b[43m_engine\u001b[49m\u001b[38;5;241;43m.\u001b[39;49m\u001b[43mget_loc\u001b[49m\u001b[43m(\u001b[49m\u001b[43mcasted_key\u001b[49m\u001b[43m)\u001b[49m\n\u001b[1;32m   3806\u001b[0m \u001b[38;5;28;01mexcept\u001b[39;00m \u001b[38;5;167;01mKeyError\u001b[39;00m \u001b[38;5;28;01mas\u001b[39;00m err:\n",
      "File \u001b[0;32mindex.pyx:167\u001b[0m, in \u001b[0;36mpandas._libs.index.IndexEngine.get_loc\u001b[0;34m()\u001b[0m\n",
      "File \u001b[0;32mindex.pyx:196\u001b[0m, in \u001b[0;36mpandas._libs.index.IndexEngine.get_loc\u001b[0;34m()\u001b[0m\n",
      "File \u001b[0;32mpandas/_libs/hashtable_class_helper.pxi:7081\u001b[0m, in \u001b[0;36mpandas._libs.hashtable.PyObjectHashTable.get_item\u001b[0;34m()\u001b[0m\n",
      "File \u001b[0;32mpandas/_libs/hashtable_class_helper.pxi:7089\u001b[0m, in \u001b[0;36mpandas._libs.hashtable.PyObjectHashTable.get_item\u001b[0;34m()\u001b[0m\n",
      "\u001b[0;31mKeyError\u001b[0m: ('moneyDeposit', 'moneyDepositLow')",
      "\nThe above exception was the direct cause of the following exception:\n",
      "\u001b[0;31mKeyError\u001b[0m                                  Traceback (most recent call last)",
      "Cell \u001b[0;32mIn[49], line 1\u001b[0m\n\u001b[0;32m----> 1\u001b[0m ansim_df[\u001b[43mansim_df\u001b[49m\u001b[43m[\u001b[49m\u001b[38;5;124;43m'\u001b[39;49m\u001b[38;5;124;43mmoneyDeposit\u001b[39;49m\u001b[38;5;124;43m'\u001b[39;49m\u001b[43m,\u001b[49m\u001b[43m \u001b[49m\u001b[38;5;124;43m'\u001b[39;49m\u001b[38;5;124;43mmoneyDepositLow\u001b[39;49m\u001b[38;5;124;43m'\u001b[39;49m\u001b[43m]\u001b[49m]\n\u001b[1;32m      3\u001b[0m \u001b[38;5;66;03m#'adresGu', 'adresRo','fnMoneyDepositLow', 'fnMoneyDepositHigh', 'fnMoneyRentalLow',\u001b[39;00m\n\u001b[1;32m      4\u001b[0m  \u001b[38;5;66;03m#      'fnMoneyRentalHigh'\u001b[39;00m\n",
      "File \u001b[0;32m~/workspace/venv/lib/python3.10/site-packages/pandas/core/frame.py:4090\u001b[0m, in \u001b[0;36mDataFrame.__getitem__\u001b[0;34m(self, key)\u001b[0m\n\u001b[1;32m   4088\u001b[0m \u001b[38;5;28;01mif\u001b[39;00m \u001b[38;5;28mself\u001b[39m\u001b[38;5;241m.\u001b[39mcolumns\u001b[38;5;241m.\u001b[39mnlevels \u001b[38;5;241m>\u001b[39m \u001b[38;5;241m1\u001b[39m:\n\u001b[1;32m   4089\u001b[0m     \u001b[38;5;28;01mreturn\u001b[39;00m \u001b[38;5;28mself\u001b[39m\u001b[38;5;241m.\u001b[39m_getitem_multilevel(key)\n\u001b[0;32m-> 4090\u001b[0m indexer \u001b[38;5;241m=\u001b[39m \u001b[38;5;28;43mself\u001b[39;49m\u001b[38;5;241;43m.\u001b[39;49m\u001b[43mcolumns\u001b[49m\u001b[38;5;241;43m.\u001b[39;49m\u001b[43mget_loc\u001b[49m\u001b[43m(\u001b[49m\u001b[43mkey\u001b[49m\u001b[43m)\u001b[49m\n\u001b[1;32m   4091\u001b[0m \u001b[38;5;28;01mif\u001b[39;00m is_integer(indexer):\n\u001b[1;32m   4092\u001b[0m     indexer \u001b[38;5;241m=\u001b[39m [indexer]\n",
      "File \u001b[0;32m~/workspace/venv/lib/python3.10/site-packages/pandas/core/indexes/base.py:3812\u001b[0m, in \u001b[0;36mIndex.get_loc\u001b[0;34m(self, key)\u001b[0m\n\u001b[1;32m   3807\u001b[0m     \u001b[38;5;28;01mif\u001b[39;00m \u001b[38;5;28misinstance\u001b[39m(casted_key, \u001b[38;5;28mslice\u001b[39m) \u001b[38;5;129;01mor\u001b[39;00m (\n\u001b[1;32m   3808\u001b[0m         \u001b[38;5;28misinstance\u001b[39m(casted_key, abc\u001b[38;5;241m.\u001b[39mIterable)\n\u001b[1;32m   3809\u001b[0m         \u001b[38;5;129;01mand\u001b[39;00m \u001b[38;5;28many\u001b[39m(\u001b[38;5;28misinstance\u001b[39m(x, \u001b[38;5;28mslice\u001b[39m) \u001b[38;5;28;01mfor\u001b[39;00m x \u001b[38;5;129;01min\u001b[39;00m casted_key)\n\u001b[1;32m   3810\u001b[0m     ):\n\u001b[1;32m   3811\u001b[0m         \u001b[38;5;28;01mraise\u001b[39;00m InvalidIndexError(key)\n\u001b[0;32m-> 3812\u001b[0m     \u001b[38;5;28;01mraise\u001b[39;00m \u001b[38;5;167;01mKeyError\u001b[39;00m(key) \u001b[38;5;28;01mfrom\u001b[39;00m \u001b[38;5;21;01merr\u001b[39;00m\n\u001b[1;32m   3813\u001b[0m \u001b[38;5;28;01mexcept\u001b[39;00m \u001b[38;5;167;01mTypeError\u001b[39;00m:\n\u001b[1;32m   3814\u001b[0m     \u001b[38;5;66;03m# If we have a listlike key, _check_indexing_error will raise\u001b[39;00m\n\u001b[1;32m   3815\u001b[0m     \u001b[38;5;66;03m#  InvalidIndexError. Otherwise we fall through and re-raise\u001b[39;00m\n\u001b[1;32m   3816\u001b[0m     \u001b[38;5;66;03m#  the TypeError.\u001b[39;00m\n\u001b[1;32m   3817\u001b[0m     \u001b[38;5;28mself\u001b[39m\u001b[38;5;241m.\u001b[39m_check_indexing_error(key)\n",
      "\u001b[0;31mKeyError\u001b[0m: ('moneyDeposit', 'moneyDepositLow')"
     ]
    }
   ],
   "source": [
    "ansim_df[ansim_df['moneyDeposit', 'moneyDepositLow']]\n",
    "\n",
    "#'adresGu', 'adresRo','fnMoneyDepositLow', 'fnMoneyDepositHigh', 'fnMoneyRentalLow',\n",
    " #      'fnMoneyRentalHigh'"
   ]
  },
  {
   "cell_type": "code",
   "execution_count": null,
   "id": "4182ef50-5ff3-4849-84c5-a20885a4ecf6",
   "metadata": {},
   "outputs": [],
   "source": []
  },
  {
   "cell_type": "code",
   "execution_count": null,
   "id": "315681a0-de5c-4340-9fce-f2f97e05578d",
   "metadata": {},
   "outputs": [],
   "source": []
  },
  {
   "cell_type": "code",
   "execution_count": null,
   "id": "5e00b6f0-b529-47e9-84c1-881b0fa5881d",
   "metadata": {},
   "outputs": [],
   "source": []
  }
 ],
 "metadata": {
  "kernelspec": {
   "display_name": "Python 3 (ipykernel)",
   "language": "python",
   "name": "python3"
  },
  "language_info": {
   "codemirror_mode": {
    "name": "ipython",
    "version": 3
   },
   "file_extension": ".py",
   "mimetype": "text/x-python",
   "name": "python",
   "nbconvert_exporter": "python",
   "pygments_lexer": "ipython3",
   "version": "3.10.12"
  }
 },
 "nbformat": 4,
 "nbformat_minor": 5
}
