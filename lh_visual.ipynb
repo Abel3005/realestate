{
 "cells": [
  {
   "cell_type": "code",
   "execution_count": 8,
   "id": "d6b49781-085d-416e-9a49-b8000ea15c8b",
   "metadata": {},
   "outputs": [
    {
     "data": {
      "text/plain": [
       "<folium.map.Marker at 0x7faaf7c19660>"
      ]
     },
     "execution_count": 8,
     "metadata": {},
     "output_type": "execute_result"
    }
   ],
   "source": [
    "import folium\n",
    "\n",
    "# 지도의 중심을 설정합니다. 여기서는 세계 지도를 중심으로 합니다.\n",
    "map_center = [37.5665, 126.978]\n",
    "\n",
    "# folium.Map을 사용하여 지도를 생성합니다.\n",
    "mymap = folium.Map(location=map_center, zoom_start=13)\n",
    "\n",
    "# 마커를 추가합니다. 마커의 위치를 [경도, 위도]로 설정합니다.\n",
    "marker = folium.Marker(location=[37.5665, 126.978], popup='Seoul')\n",
    "marker.add_to(mymap)"
   ]
  },
  {
   "cell_type": "code",
   "execution_count": null,
   "id": "14927dda-01d4-4ee1-b3e5-8fce03e0ade4",
   "metadata": {},
   "outputs": [],
   "source": []
  },
  {
   "cell_type": "code",
   "execution_count": null,
   "id": "0a2ef846-4e03-4220-8aa9-5559703c7327",
   "metadata": {},
   "outputs": [],
   "source": []
  },
  {
   "cell_type": "code",
   "execution_count": null,
   "id": "6e87f1de-62c6-4ca9-9f10-818d8c733c30",
   "metadata": {},
   "outputs": [],
   "source": []
  },
  {
   "cell_type": "code",
   "execution_count": 10,
   "id": "b797ad59-acf4-41c2-8a82-f1f4d7ec6e54",
   "metadata": {},
   "outputs": [],
   "source": [
    "import pymysql\n",
    "import pandas as pd\n",
    "\n",
    "with open(\"./db.config\",'r') as f:\n",
    "    db_data = f.read()\n",
    "db_data = eval(db_data)\n",
    "\n",
    "_host = db_data['DB_HOST']\n",
    "_user = db_data['DB_USER']\n",
    "_password = db_data['DB_PASSWORD']\n",
    "_name = db_data['DB_NAME']\n",
    "\n",
    "con = pymysql.connect(host=f'{_host}', user=f'{_user}', password=f'{_password}', db=f'{_name}', charset='utf8')\n",
    "cur = con.cursor()"
   ]
  },
  {
   "cell_type": "code",
   "execution_count": 11,
   "id": "176b0230-48b8-45cb-abc9-4f53b9bf77f4",
   "metadata": {},
   "outputs": [
    {
     "name": "stderr",
     "output_type": "stream",
     "text": [
      "/tmp/ipykernel_924/3272685349.py:1: UserWarning: pandas only supports SQLAlchemy connectable (engine/connection) or database string URI or sqlite3 DBAPI2 connection. Other DBAPI2 objects are not tested. Please consider using SQLAlchemy.\n",
      "  df_ansim = pd.read_sql_query(\"select * from ansim\", con=con)\n",
      "/tmp/ipykernel_924/3272685349.py:2: UserWarning: pandas only supports SQLAlchemy connectable (engine/connection) or database string URI or sqlite3 DBAPI2 connection. Other DBAPI2 objects are not tested. Please consider using SQLAlchemy.\n",
      "  df_alllh = pd.read_sql_query(\"select * from allLh\", con=con)\n",
      "/tmp/ipykernel_924/3272685349.py:3: UserWarning: pandas only supports SQLAlchemy connectable (engine/connection) or database string URI or sqlite3 DBAPI2 connection. Other DBAPI2 objects are not tested. Please consider using SQLAlchemy.\n",
      "  df_rent = pd.read_sql_query(\"select * from allRent\", con=con)\n"
     ]
    }
   ],
   "source": [
    "df_ansim = pd.read_sql_query(\"select * from ansim\", con=con)\n",
    "df_alllh = pd.read_sql_query(\"select * from allLh\", con=con)\n",
    "df_rent = pd.read_sql_query(\"select * from allRent\", con=con)"
   ]
  },
  {
   "cell_type": "code",
   "execution_count": 12,
   "id": "f6b55c9f-999a-4a64-96a2-6131a604f48c",
   "metadata": {},
   "outputs": [
    {
     "data": {
      "text/html": [
       "<div>\n",
       "<style scoped>\n",
       "    .dataframe tbody tr th:only-of-type {\n",
       "        vertical-align: middle;\n",
       "    }\n",
       "\n",
       "    .dataframe tbody tr th {\n",
       "        vertical-align: top;\n",
       "    }\n",
       "\n",
       "    .dataframe thead th {\n",
       "        text-align: right;\n",
       "    }\n",
       "</style>\n",
       "<table border=\"1\" class=\"dataframe\">\n",
       "  <thead>\n",
       "    <tr style=\"text-align: right;\">\n",
       "      <th></th>\n",
       "      <th>kindRental</th>\n",
       "      <th>adresGu</th>\n",
       "      <th>adresWay</th>\n",
       "      <th>scaleTot</th>\n",
       "      <th>kindHouse</th>\n",
       "      <th>totArea</th>\n",
       "      <th>depositMoney</th>\n",
       "      <th>rentalMoney</th>\n",
       "    </tr>\n",
       "  </thead>\n",
       "  <tbody>\n",
       "    <tr>\n",
       "      <th>0</th>\n",
       "      <td>매입임대</td>\n",
       "      <td>종로구</td>\n",
       "      <td>서울특별시 종로구 난계로29길 13</td>\n",
       "      <td>103</td>\n",
       "      <td>오피스텔</td>\n",
       "      <td>23</td>\n",
       "      <td>2000000</td>\n",
       "      <td>383117</td>\n",
       "    </tr>\n",
       "    <tr>\n",
       "      <th>1</th>\n",
       "      <td>매입임대</td>\n",
       "      <td>종로구</td>\n",
       "      <td>서울특별시 종로구 대학로5가길 15</td>\n",
       "      <td>1</td>\n",
       "      <td>다세대주택</td>\n",
       "      <td>27</td>\n",
       "      <td>3128000</td>\n",
       "      <td>109040</td>\n",
       "    </tr>\n",
       "    <tr>\n",
       "      <th>2</th>\n",
       "      <td>매입임대</td>\n",
       "      <td>종로구</td>\n",
       "      <td>서울특별시 종로구 대학로9가길 9-8</td>\n",
       "      <td>5</td>\n",
       "      <td>다가구주택</td>\n",
       "      <td>37</td>\n",
       "      <td>4275000</td>\n",
       "      <td>149350</td>\n",
       "    </tr>\n",
       "  </tbody>\n",
       "</table>\n",
       "</div>"
      ],
      "text/plain": [
       "  kindRental adresGu              adresWay  scaleTot kindHouse  totArea  \\\n",
       "0       매입임대     종로구   서울특별시 종로구 난계로29길 13       103      오피스텔       23   \n",
       "1       매입임대     종로구   서울특별시 종로구 대학로5가길 15         1     다세대주택       27   \n",
       "2       매입임대     종로구  서울특별시 종로구 대학로9가길 9-8         5     다가구주택       37   \n",
       "\n",
       "   depositMoney  rentalMoney  \n",
       "0       2000000       383117  \n",
       "1       3128000       109040  \n",
       "2       4275000       149350  "
      ]
     },
     "execution_count": 12,
     "metadata": {},
     "output_type": "execute_result"
    }
   ],
   "source": [
    "df_alllh.head(3)"
   ]
  },
  {
   "cell_type": "code",
   "execution_count": 13,
   "id": "1a4c866e-6780-44df-9717-7b9858d417aa",
   "metadata": {},
   "outputs": [
    {
     "data": {
      "text/html": [
       "<div>\n",
       "<style scoped>\n",
       "    .dataframe tbody tr th:only-of-type {\n",
       "        vertical-align: middle;\n",
       "    }\n",
       "\n",
       "    .dataframe tbody tr th {\n",
       "        vertical-align: top;\n",
       "    }\n",
       "\n",
       "    .dataframe thead th {\n",
       "        text-align: right;\n",
       "    }\n",
       "</style>\n",
       "<table border=\"1\" class=\"dataframe\">\n",
       "  <thead>\n",
       "    <tr style=\"text-align: right;\">\n",
       "      <th></th>\n",
       "      <th>kindRental</th>\n",
       "      <th>adresGu</th>\n",
       "      <th>adresWay</th>\n",
       "      <th>scaleTot</th>\n",
       "      <th>kindHouse</th>\n",
       "      <th>totArea</th>\n",
       "      <th>publicmoneyRental</th>\n",
       "      <th>publicdepositMoney</th>\n",
       "      <th>privateMoneyDepositLow</th>\n",
       "      <th>privateMoneyDepositHigh</th>\n",
       "      <th>privateMoneyRentalLow</th>\n",
       "      <th>privateMoneyRentalHigh</th>\n",
       "    </tr>\n",
       "  </thead>\n",
       "  <tbody>\n",
       "    <tr>\n",
       "      <th>0</th>\n",
       "      <td>청년안심</td>\n",
       "      <td>은평구</td>\n",
       "      <td>갈현동 456-25</td>\n",
       "      <td>163</td>\n",
       "      <td>아파트</td>\n",
       "      <td>17</td>\n",
       "      <td>290000</td>\n",
       "      <td>40000000</td>\n",
       "      <td>40000000</td>\n",
       "      <td>86000000</td>\n",
       "      <td>290000</td>\n",
       "      <td>530000</td>\n",
       "    </tr>\n",
       "    <tr>\n",
       "      <th>1</th>\n",
       "      <td>청년안심</td>\n",
       "      <td>중랑구</td>\n",
       "      <td>상봉동 118-8</td>\n",
       "      <td>299</td>\n",
       "      <td>아파트</td>\n",
       "      <td>18</td>\n",
       "      <td>280000</td>\n",
       "      <td>43000000</td>\n",
       "      <td>43000000</td>\n",
       "      <td>132000000</td>\n",
       "      <td>280000</td>\n",
       "      <td>760000</td>\n",
       "    </tr>\n",
       "    <tr>\n",
       "      <th>2</th>\n",
       "      <td>청년안심</td>\n",
       "      <td>중랑구</td>\n",
       "      <td>봉우재로 111</td>\n",
       "      <td>83</td>\n",
       "      <td>아파트</td>\n",
       "      <td>17</td>\n",
       "      <td>300000</td>\n",
       "      <td>36000000</td>\n",
       "      <td>36000000</td>\n",
       "      <td>76000000</td>\n",
       "      <td>300000</td>\n",
       "      <td>600000</td>\n",
       "    </tr>\n",
       "  </tbody>\n",
       "</table>\n",
       "</div>"
      ],
      "text/plain": [
       "  kindRental adresGu    adresWay  scaleTot kindHouse totArea  \\\n",
       "0       청년안심     은평구  갈현동 456-25       163       아파트      17   \n",
       "1       청년안심     중랑구   상봉동 118-8       299       아파트      18   \n",
       "2       청년안심     중랑구    봉우재로 111        83       아파트      17   \n",
       "\n",
       "   publicmoneyRental  publicdepositMoney  privateMoneyDepositLow  \\\n",
       "0             290000            40000000                40000000   \n",
       "1             280000            43000000                43000000   \n",
       "2             300000            36000000                36000000   \n",
       "\n",
       "   privateMoneyDepositHigh  privateMoneyRentalLow  privateMoneyRentalHigh  \n",
       "0                 86000000                 290000                  530000  \n",
       "1                132000000                 280000                  760000  \n",
       "2                 76000000                 300000                  600000  "
      ]
     },
     "execution_count": 13,
     "metadata": {},
     "output_type": "execute_result"
    }
   ],
   "source": [
    "df_ansim.head(3)"
   ]
  },
  {
   "cell_type": "code",
   "execution_count": 14,
   "id": "5e1921a5-4120-4b98-a7f2-fc996159077f",
   "metadata": {},
   "outputs": [
    {
     "data": {
      "text/html": [
       "<div>\n",
       "<style scoped>\n",
       "    .dataframe tbody tr th:only-of-type {\n",
       "        vertical-align: middle;\n",
       "    }\n",
       "\n",
       "    .dataframe tbody tr th {\n",
       "        vertical-align: top;\n",
       "    }\n",
       "\n",
       "    .dataframe thead th {\n",
       "        text-align: right;\n",
       "    }\n",
       "</style>\n",
       "<table border=\"1\" class=\"dataframe\">\n",
       "  <thead>\n",
       "    <tr style=\"text-align: right;\">\n",
       "      <th></th>\n",
       "      <th>yearReg</th>\n",
       "      <th>adresGu</th>\n",
       "      <th>division</th>\n",
       "      <th>totArea</th>\n",
       "      <th>depositMoney</th>\n",
       "      <th>rentalMoney</th>\n",
       "      <th>kindHouse</th>\n",
       "      <th>divisionContract</th>\n",
       "    </tr>\n",
       "  </thead>\n",
       "  <tbody>\n",
       "    <tr>\n",
       "      <th>0</th>\n",
       "      <td>2023</td>\n",
       "      <td>마포구</td>\n",
       "      <td>월세</td>\n",
       "      <td>31.12</td>\n",
       "      <td>100000000</td>\n",
       "      <td>400000</td>\n",
       "      <td>오피스텔</td>\n",
       "      <td>신규</td>\n",
       "    </tr>\n",
       "    <tr>\n",
       "      <th>1</th>\n",
       "      <td>2023</td>\n",
       "      <td>마포구</td>\n",
       "      <td>월세</td>\n",
       "      <td>33.66</td>\n",
       "      <td>100000000</td>\n",
       "      <td>550000</td>\n",
       "      <td>오피스텔</td>\n",
       "      <td>갱신</td>\n",
       "    </tr>\n",
       "    <tr>\n",
       "      <th>2</th>\n",
       "      <td>2023</td>\n",
       "      <td>서초구</td>\n",
       "      <td>월세</td>\n",
       "      <td>28.80</td>\n",
       "      <td>10000000</td>\n",
       "      <td>550000</td>\n",
       "      <td>오피스텔</td>\n",
       "      <td>신규</td>\n",
       "    </tr>\n",
       "  </tbody>\n",
       "</table>\n",
       "</div>"
      ],
      "text/plain": [
       "   yearReg adresGu division  totArea  depositMoney  rentalMoney kindHouse  \\\n",
       "0     2023     마포구       월세    31.12     100000000       400000      오피스텔   \n",
       "1     2023     마포구       월세    33.66     100000000       550000      오피스텔   \n",
       "2     2023     서초구       월세    28.80      10000000       550000      오피스텔   \n",
       "\n",
       "  divisionContract  \n",
       "0               신규  \n",
       "1               갱신  \n",
       "2               신규  "
      ]
     },
     "execution_count": 14,
     "metadata": {},
     "output_type": "execute_result"
    }
   ],
   "source": [
    "df_rent.head(3)"
   ]
  },
  {
   "cell_type": "code",
   "execution_count": null,
   "id": "30e9e6d3-8e97-460a-a3c9-f7f8a23b8f3d",
   "metadata": {},
   "outputs": [],
   "source": []
  },
  {
   "cell_type": "code",
   "execution_count": 15,
   "id": "5df0ae96-da5d-4041-a211-acc46d9a6bd0",
   "metadata": {},
   "outputs": [
    {
     "name": "stderr",
     "output_type": "stream",
     "text": [
      "/tmp/ipykernel_924/1016888508.py:1: UserWarning: pandas only supports SQLAlchemy connectable (engine/connection) or database string URI or sqlite3 DBAPI2 connection. Other DBAPI2 objects are not tested. Please consider using SQLAlchemy.\n",
      "  df_ansim2 = pd.read_sql_query(\"select * from AverageAnsim\", con=con)\n",
      "/tmp/ipykernel_924/1016888508.py:2: UserWarning: pandas only supports SQLAlchemy connectable (engine/connection) or database string URI or sqlite3 DBAPI2 connection. Other DBAPI2 objects are not tested. Please consider using SQLAlchemy.\n",
      "  df_alllh2 = pd.read_sql_query(\"select * from allLhView\", con=con)\n"
     ]
    }
   ],
   "source": [
    "df_ansim2 = pd.read_sql_query(\"select * from AverageAnsim\", con=con)\n",
    "df_alllh2 = pd.read_sql_query(\"select * from allLhView\", con=con)"
   ]
  },
  {
   "cell_type": "markdown",
   "id": "7dc9c51e-520f-4c03-a333-206012d87682",
   "metadata": {},
   "source": [
    "분포 확인"
   ]
  },
  {
   "cell_type": "code",
   "execution_count": 18,
   "id": "2ad2682a-562c-49f6-b313-b5277dbc6791",
   "metadata": {},
   "outputs": [],
   "source": [
    "import matplotlib.pyplot as plt\n",
    "import seaborn as sns"
   ]
  },
  {
   "cell_type": "code",
   "execution_count": 24,
   "id": "f88bc57f-434b-4018-a412-397c21c97f76",
   "metadata": {
    "scrolled": true
   },
   "outputs": [
    {
     "data": {
      "image/png": "[encoded data removed]",
      "text/plain": [
       "<Figure size 640x480 with 1 Axes>"
      ]
     },
     "metadata": {},
     "output_type": "display_data"
    }
   ],
   "source": [
    "# 그래프 그리기\n",
    "plt.bar(df_ansim2['adresGu'], df_ansim2['Average'])\n",
    "plt.xlabel('adresGu')\n",
    "plt.ylabel('Average')\n",
    "plt.title('자치구 별 청년안심주택 평균')\n",
    "plt.xticks(rotation=45)  # x축 레이블 회전\n",
    "plt.tight_layout()\n",
    "plt.show()\n"
   ]
  },
  {
   "cell_type": "code",
   "execution_count": 51,
   "id": "4b4a12f1-5c7f-430f-aa18-002f55f49b5f",
   "metadata": {},
   "outputs": [],
   "source": [
    "df_ansim2_top5 = df_ansim2.nlargest(5, 'Average')\n",
    "df_ansim2_btm5 = df_ansim2.nsmallest(5, 'Average')"
   ]
  },
  {
   "cell_type": "code",
   "execution_count": 49,
   "id": "3aeab412-84fe-49df-b0b5-cb807d3b672c",
   "metadata": {},
   "outputs": [
    {
     "data": {
      "image/png": "[encoded data removed]",
      "text/plain": [
       "<Figure size 640x480 with 1 Axes>"
      ]
     },
     "metadata": {},
     "output_type": "display_data"
    }
   ],
   "source": [
    "# 그래프 그리기\n",
    "plt.bar(df_ansim2_top5['adresGu'], df_ansim2_top5['Average'])\n",
    "plt.xlabel('adresGu')\n",
    "plt.ylabel('Average')\n",
    "plt.title('자치구 별 청년안심주택 상위 평균')\n",
    "plt.xticks(rotation=45)  # x축 레이블 회전\n",
    "plt.ylim(200000000, 260000000)  # y축 범위 설정\n",
    "plt.show()"
   ]
  },
  {
   "cell_type": "code",
   "execution_count": 54,
   "id": "7e1a0f61-d004-429a-b62c-2c9161c6fd39",
   "metadata": {},
   "outputs": [
    {
     "data": {
      "image/png": "[encoded data removed]",
      "text/plain": [
       "<Figure size 640x480 with 1 Axes>"
      ]
     },
     "metadata": {},
     "output_type": "display_data"
    }
   ],
   "source": [
    "# 그래프 그리기\n",
    "plt.bar(df_ansim2_btm5['adresGu'], df_ansim2_btm5['Average'])\n",
    "plt.xlabel('adresGu')\n",
    "plt.ylabel('Average')\n",
    "plt.title('자치구 별 청년안심주택 하위 평균')\n",
    "plt.xticks(rotation=45)  # x축 레이블 회전\n",
    "plt.ylim(50000000, 260000000)  # y축 범위 설정\n",
    "plt.show()"
   ]
  },
  {
   "cell_type": "code",
   "execution_count": 53,
   "id": "37b98133-90f8-4fb7-b13e-905d2cbd6577",
   "metadata": {},
   "outputs": [
    {
     "data": {
      "text/html": [
       "<div>\n",
       "<style scoped>\n",
       "    .dataframe tbody tr th:only-of-type {\n",
       "        vertical-align: middle;\n",
       "    }\n",
       "\n",
       "    .dataframe tbody tr th {\n",
       "        vertical-align: top;\n",
       "    }\n",
       "\n",
       "    .dataframe thead th {\n",
       "        text-align: right;\n",
       "    }\n",
       "</style>\n",
       "<table border=\"1\" class=\"dataframe\">\n",
       "  <thead>\n",
       "    <tr style=\"text-align: right;\">\n",
       "      <th></th>\n",
       "      <th>ren_type</th>\n",
       "      <th>kindRental</th>\n",
       "      <th>adresGu</th>\n",
       "      <th>Average</th>\n",
       "    </tr>\n",
       "  </thead>\n",
       "  <tbody>\n",
       "    <tr>\n",
       "      <th>9</th>\n",
       "      <td>public</td>\n",
       "      <td>청년안심</td>\n",
       "      <td>동대문구</td>\n",
       "      <td>56260385</td>\n",
       "    </tr>\n",
       "    <tr>\n",
       "      <th>13</th>\n",
       "      <td>public</td>\n",
       "      <td>청년안심</td>\n",
       "      <td>강서구</td>\n",
       "      <td>60333718</td>\n",
       "    </tr>\n",
       "    <tr>\n",
       "      <th>17</th>\n",
       "      <td>public</td>\n",
       "      <td>청년안심</td>\n",
       "      <td>강동구</td>\n",
       "      <td>73357692</td>\n",
       "    </tr>\n",
       "    <tr>\n",
       "      <th>14</th>\n",
       "      <td>public</td>\n",
       "      <td>청년안심</td>\n",
       "      <td>용산구</td>\n",
       "      <td>73513077</td>\n",
       "    </tr>\n",
       "    <tr>\n",
       "      <th>2</th>\n",
       "      <td>public</td>\n",
       "      <td>청년안심</td>\n",
       "      <td>동작구</td>\n",
       "      <td>87346667</td>\n",
       "    </tr>\n",
       "  </tbody>\n",
       "</table>\n",
       "</div>"
      ],
      "text/plain": [
       "   ren_type kindRental adresGu   Average\n",
       "9    public       청년안심    동대문구  56260385\n",
       "13   public       청년안심     강서구  60333718\n",
       "17   public       청년안심     강동구  73357692\n",
       "14   public       청년안심     용산구  73513077\n",
       "2    public       청년안심     동작구  87346667"
      ]
     },
     "execution_count": 53,
     "metadata": {},
     "output_type": "execute_result"
    }
   ],
   "source": [
    "df_ansim2.nsmallest(5, 'Average')"
   ]
  },
  {
   "cell_type": "code",
   "execution_count": null,
   "id": "02de4017-c647-4dbe-b2d2-6be7fe069302",
   "metadata": {},
   "outputs": [],
   "source": []
  },
  {
   "cell_type": "code",
   "execution_count": null,
   "id": "1d8795c0-65e1-4587-9f73-cd0347668b75",
   "metadata": {},
   "outputs": [],
   "source": []
  },
  {
   "cell_type": "code",
   "execution_count": null,
   "id": "fd488da0-8d18-44ff-b88e-062f79ec3a7b",
   "metadata": {},
   "outputs": [],
   "source": []
  },
  {
   "cell_type": "code",
   "execution_count": null,
   "id": "80a482d0-f771-4cc2-8c6d-47a870bd7802",
   "metadata": {},
   "outputs": [],
   "source": []
  },
  {
   "cell_type": "code",
   "execution_count": 1,
   "id": "56e855f7-1333-4c03-be78-2e7f883a86a1",
   "metadata": {},
   "outputs": [],
   "source": [
    "from matplotlib import font_manager, rc \n",
    "\n",
    "font_path = \"/usr/share/fonts/truetype/malgun.ttf\" \n",
    "\n",
    "font_name = font_manager.FontProperties(fname = font_path).get_name() "
   ]
  },
  {
   "cell_type": "code",
   "execution_count": 2,
   "id": "a3800935-efe3-479b-9020-83be2468c18d",
   "metadata": {},
   "outputs": [],
   "source": [
    "rc('font', family=font_name) \n",
    "import matplotlib.font_manager\n",
    "\n",
    "font_list = matplotlib.font_manager.findSystemFonts(fontpaths=None, fontext='ttf')"
   ]
  },
  {
   "cell_type": "code",
   "execution_count": 3,
   "id": "5b805134-c8d6-4629-82fe-10a96e83ab66",
   "metadata": {},
   "outputs": [
    {
     "data": {
      "text/plain": [
       "'Malgun Gothic'"
      ]
     },
     "execution_count": 3,
     "metadata": {},
     "output_type": "execute_result"
    }
   ],
   "source": [
    "font_name"
   ]
  },
  {
   "cell_type": "code",
   "execution_count": 4,
   "id": "9aaaffba-d41f-48f7-bb91-308daac3b4a2",
   "metadata": {},
   "outputs": [],
   "source": [
    "rc('font', family=font_name)"
   ]
  },
  {
   "cell_type": "code",
   "execution_count": 5,
   "id": "b6263a98-7600-48c2-bcb7-68dee5fbae4e",
   "metadata": {},
   "outputs": [],
   "source": [
    "import pandas as pd\n",
    "import matplotlib.pyplot as plt"
   ]
  },
  {
   "cell_type": "code",
   "execution_count": 6,
   "id": "02743d4c-3ad7-490a-b383-7bfad3c6fa12",
   "metadata": {},
   "outputs": [
    {
     "name": "stderr",
     "output_type": "stream",
     "text": [
      "/tmp/ipykernel_924/3707250521.py:6: FutureWarning: DataFrame.fillna with 'method' is deprecated and will raise in a future version. Use obj.ffill() or obj.bfill() instead.\n",
      "  df = df.fillna(method='ffill')\n"
     ]
    }
   ],
   "source": [
    "# Excel 데이터를 데이터프레임 변환 \n",
    "df = pd.read_excel('./data/시도별 전출입 인구수.xlsx', engine= 'openpyxl', header=0)\n",
    "\n",
    "\n",
    "# 전출지별에서 누락값(NaN)을 앞 데이터로 채움 (엑셀 양식 병합 부분)\n",
    "df = df.fillna(method='ffill')\n",
    "\n",
    "# 서울에서 다른 지역으로 이동한 데이터만 추출하여 정리\n",
    "mask = (df['전출지별'] == '서울특별시') & (df['전입지별'] != '서울특별시') \n",
    "df_seoul = df[mask]\n",
    "df_seoul = df_seoul.drop(['전출지별'], axis=1)\n",
    "df_seoul.rename({'전입지별':'전입지'}, axis=1, inplace=True)\n",
    "df_seoul.set_index('전입지', inplace=True)\n",
    "\n",
    "# 서울에서 경기도로 이동한 인구 데이터 값만 선택 \n",
    "sr_one = df_seoul.loc['경기도']"
   ]
  },
  {
   "cell_type": "code",
   "execution_count": 7,
   "id": "d9ca59c1-32ad-41ea-b2a5-bea47ed0ce36",
   "metadata": {},
   "outputs": [
    {
     "data": {
      "image/png": "[encoded data removed]",
      "text/plain": [
       "<Figure size 640x480 with 1 Axes>"
      ]
     },
     "metadata": {},
     "output_type": "display_data"
    }
   ],
   "source": [
    "# x, y축 데이터를 plot 함수에 입력\n",
    "plt.plot(sr_one.index, sr_one.values)\n",
    "\n",
    "# 차트 제목 추가\n",
    "plt.title('서울 -> 경기 인구 이동')\n",
    "\n",
    "# 축이름 추가\n",
    "plt.xlabel('기간')\n",
    "plt.ylabel('이동 인구수')\n",
    "\n",
    "plt.show()  # 변경사항 저장하고 그래프 출력"
   ]
  },
  {
   "cell_type": "code",
   "execution_count": null,
   "id": "269bf1ac-02ea-44aa-a3a1-29e2586f798a",
   "metadata": {},
   "outputs": [],
   "source": []
  }
 ],
 "metadata": {
  "kernelspec": {
   "display_name": "Python 3 (ipykernel)",
   "language": "python",
   "name": "python3"
  },
  "language_info": {
   "codemirror_mode": {
    "name": "ipython",
    "version": 3
   },
   "file_extension": ".py",
   "mimetype": "text/x-python",
   "name": "python",
   "nbconvert_exporter": "python",
   "pygments_lexer": "ipython3",
   "version": "3.10.12"
  }
 },
 "nbformat": 4,
 "nbformat_minor": 5
}
