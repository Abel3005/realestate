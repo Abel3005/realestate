{
 "cells": [
  {
   "cell_type": "code",
   "execution_count": 1,
   "metadata": {},
   "outputs": [],
   "source": [
    "import pandas as pd"
   ]
  },
  {
   "cell_type": "code",
   "execution_count": 2,
   "metadata": {},
   "outputs": [],
   "source": [
    "pd.options.display.max_columns = 100"
   ]
  },
  {
   "cell_type": "code",
   "execution_count": 3,
   "metadata": {},
   "outputs": [],
   "source": [
    "# csv 파일 불러오기\n",
    "df_2024 = pd.read_csv('./data/서울특별시_전월세가_2024.csv', encoding='cp949')\n",
    "df_2023 = pd.read_csv('./data/서울특별시_전월세가_2023.csv')"
   ]
  },
  {
   "cell_type": "code",
   "execution_count": 5,
   "metadata": {},
   "outputs": [],
   "source": [
    "# 1인가구 면적 필터링\n",
    "df_2024 = df_2024[df_2024['임대면적(㎡)'] <= 35].reset_index(drop=True).copy()\n",
    "df_2023 = df_2023[df_2023['임대면적'] <= 35].reset_index(drop=True).copy()"
   ]
  },
  {
   "cell_type": "code",
   "execution_count": 6,
   "metadata": {},
   "outputs": [],
   "source": [
    "# 임대료 0원 제거\n",
    "df_2024 = df_2024[df_2024['임대료(만원)'] != 0].reset_index(drop=True).copy()\n",
    "df_2023 = df_2023[df_2023['임대료(만원)'] != 0].reset_index(drop=True).copy()"
   ]
  },
  {
   "cell_type": "code",
   "execution_count": 14,
   "metadata": {},
   "outputs": [],
   "source": [
    "# 불필요한 컬럼 제거\n",
    "df_2024 = df_2024[['접수연도', '자치구명', '전월세 구분', '임대면적(㎡)', '보증금(만원)', '임대료(만원)', '건물용도', '신규갱신여부']].copy()\n",
    "df_2023 = df_2023[['접수년도', '자치구명', '전월세구분', '임대면적', '보증금(만원)', '임대료(만원)', '건물용도', '신규계약구분']].copy()"
   ]
  },
  {
   "cell_type": "code",
   "execution_count": 15,
   "metadata": {},
   "outputs": [],
   "source": [
    "# 컬럼명 전체 변경\n",
    "df_2024.columns = [['접수년도', '자치구명', '전월세구분', '임대면적', '보증금', '임대료', '건물용도', '신규갱신구분']]\n",
    "df_2023.columns = [['접수년도', '자치구명', '전월세구분', '임대면적', '보증금', '임대료', '건물용도', '신규갱신구분']]"
   ]
  },
  {
   "cell_type": "code",
   "execution_count": 16,
   "metadata": {},
   "outputs": [],
   "source": [
    "# 결측값 제거\n",
    "df_2024 = df_2024.dropna().reset_index(drop=True)\n",
    "df_2023 = df_2023.dropna().reset_index(drop=True)"
   ]
  },
  {
   "cell_type": "code",
   "execution_count": 9,
   "metadata": {},
   "outputs": [],
   "source": [
    "# 돈 단위 변경\n",
    "df_2024['보증금'] = df_2024['보증금'].apply(lambda x: x * 10000)\n",
    "df_2024['임대료'] = df_2024['임대료'].apply(lambda x: x * 10000)\n",
    "df_2023['보증금'] = df_2023['보증금'].apply(lambda x: x * 10000)\n",
    "df_2023['임대료'] = df_2023['임대료'].apply(lambda x: x * 10000)"
   ]
  },
  {
   "cell_type": "code",
   "execution_count": 10,
   "metadata": {},
   "outputs": [],
   "source": [
    "# 데이터프레임 행으로 합치기\n",
    "merge_df = pd.concat([df_2023, df_2024])"
   ]
  },
  {
   "cell_type": "code",
   "execution_count": 11,
   "metadata": {},
   "outputs": [],
   "source": [
    "# index 초기화\n",
    "merge_df.reset_index(drop=True, inplace=True)"
   ]
  },
  {
   "cell_type": "code",
   "execution_count": 41,
   "metadata": {},
   "outputs": [],
   "source": [
    "import pymysql\n",
    "\n",
    "con = pymysql.connect(host='', user='', password='', db='', charset='utf8')\n",
    "cur = con.cursor()"
   ]
  },
  {
   "cell_type": "code",
   "execution_count": 42,
   "metadata": {},
   "outputs": [],
   "source": [
    "sql = 'insert into allRent values (%s, %s, %s, %s, %s, %s, %s, %s)'"
   ]
  },
  {
   "cell_type": "code",
   "execution_count": 43,
   "metadata": {},
   "outputs": [
    {
     "name": "stderr",
     "output_type": "stream",
     "text": [
      "160498it [23:26, 114.11it/s]\n"
     ]
    }
   ],
   "source": [
    "from tqdm import tqdm\n",
    "\n",
    "for idx, row in tqdm(merge_df.iterrows()):\n",
    "    cur.execute(sql, row.tolist())\n",
    "\n",
    "con.commit()"
   ]
  },
  {
   "cell_type": "code",
   "execution_count": null,
   "metadata": {},
   "outputs": [],
   "source": [
    "# DB 데이터 불러오기\n",
    "lh_df = pd.read_sql_query('select * from allLh', con=con)\n",
    "ansim_df = pd.read_sql_query('select * from ansim', con=con)"
   ]
  },
  {
   "cell_type": "code",
   "execution_count": null,
   "metadata": {},
   "outputs": [],
   "source": [
    "# geocoder 2.0 API로 위도, 경도 데이터 찾기\n",
    "import requests\n",
    "\n",
    "tmp = ''\n",
    "data = []\n",
    "failed = []\n",
    "\n",
    "for idx, row in tqdm(lh_df.iterrows()):\n",
    "    apiurl = \"https://api.vworld.kr/req/address?\"\n",
    "    params = {\n",
    "        \"service\": \"address\",\n",
    "        \"request\": \"getcoord\",\n",
    "        \"crs\": \"epsg:4326\",\n",
    "        \"address\": row['adresWay'],\n",
    "        \"format\": \"json\",\n",
    "        \"type\": \"road\",\n",
    "        \"key\": \"[API-KEY]\"\n",
    "    }\n",
    "    response = requests.get(apiurl, params=params)\n",
    "    if response.status_code == 200:\n",
    "        tmp = response.json()\n",
    "        try:\n",
    "            data.append(tmp['response']['result']['point'])\n",
    "        except Exception as e:\n",
    "            params[\"type\"] = \"parcel\"\n",
    "            response = requests.get(apiurl, params=params)\n",
    "            if response.status_code == 200:\n",
    "                tmp = response.json()\n",
    "                try:\n",
    "                    data.append(tmp['response']['result']['point'])\n",
    "                except Exception as e:\n",
    "                    failed.append(idx)"
   ]
  },
  {
   "cell_type": "code",
   "execution_count": null,
   "metadata": {},
   "outputs": [],
   "source": [
    "# 위도 경도 데이터 저장\n",
    "for i in range(len(lh_df)):\n",
    "    lh_df.loc[i, 'x'] = data[i]['x']\n",
    "    lh_df.loc[i, 'y'] = data[i]['y']"
   ]
  },
  {
   "cell_type": "code",
   "execution_count": null,
   "metadata": {},
   "outputs": [],
   "source": [
    "# CSV 파일 저장\n",
    "lh_df.to_csv('lh_df.csv', index=False)\n",
    "ansim_df.to_csv('ansim_df.csv', index=False)"
   ]
  }
 ],
 "metadata": {
  "kernelspec": {
   "display_name": "Python 3",
   "language": "python",
   "name": "python3"
  },
  "language_info": {
   "codemirror_mode": {
    "name": "ipython",
    "version": 3
   },
   "file_extension": ".py",
   "mimetype": "text/x-python",
   "name": "python",
   "nbconvert_exporter": "python",
   "pygments_lexer": "ipython3",
   "version": "3.10.12"
  }
 },
 "nbformat": 4,
 "nbformat_minor": 2
}
